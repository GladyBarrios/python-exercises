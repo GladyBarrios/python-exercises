{
 "cells": [
  {
   "cell_type": "code",
   "execution_count": null,
   "id": "6d375e7e",
   "metadata": {},
   "outputs": [],
   "source": []
  },
  {
   "cell_type": "code",
   "execution_count": 1,
   "id": "2f4fd96b",
   "metadata": {
    "scrolled": false
   },
   "outputs": [
    {
     "name": "stdout",
     "output_type": "stream",
     "text": [
      "hello kalpana!!\n"
     ]
    }
   ],
   "source": [
    "# this is a comment \n",
    "# another comment \n",
    "greeting = 'hello kalpana!!'\n",
    "    \n",
    "print (greeting)\n"
   ]
  },
  {
   "cell_type": "markdown",
   "id": "f555c4f7",
   "metadata": {},
   "source": [
    "this is a heading "
   ]
  },
  {
   "cell_type": "code",
   "execution_count": 2,
   "id": "ff874b52",
   "metadata": {},
   "outputs": [
    {
     "name": "stdout",
     "output_type": "stream",
     "text": [
      "initiated datasets repo at: /Users/gladybarrios/.pydataset/\n"
     ]
    }
   ],
   "source": [
    "from pydataset import data \n"
   ]
  },
  {
   "cell_type": "code",
   "execution_count": 3,
   "id": "fabd16a6",
   "metadata": {},
   "outputs": [
    {
     "name": "stdout",
     "output_type": "stream",
     "text": [
      "oh how the turn tables\n"
     ]
    }
   ],
   "source": [
    "# this is another saying \n",
    "\n",
    "saying = \"oh how the turn tables\"\n",
    "\n",
    "print (saying)\n"
   ]
  },
  {
   "cell_type": "code",
   "execution_count": 4,
   "id": "783b056c",
   "metadata": {},
   "outputs": [
    {
     "name": "stdout",
     "output_type": "stream",
     "text": [
      "goodbye:)\n"
     ]
    }
   ],
   "source": [
    "# my last saying \n",
    "\n",
    "ending = \"goodbye:)\"\n",
    "\n",
    "print (ending)"
   ]
  },
  {
   "cell_type": "code",
   "execution_count": null,
   "id": "5defc141",
   "metadata": {},
   "outputs": [],
   "source": [
    "# one shortcut i found was to run a cell you just need shift, enter \n",
    "# to add one cell abouve what you have chosen you need return a and for below return b\n",
    "# command - a to select all cells "
   ]
  }
 ],
 "metadata": {
  "kernelspec": {
   "display_name": "Python 3 (ipykernel)",
   "language": "python",
   "name": "python3"
  },
  "language_info": {
   "codemirror_mode": {
    "name": "ipython",
    "version": 3
   },
   "file_extension": ".py",
   "mimetype": "text/x-python",
   "name": "python",
   "nbconvert_exporter": "python",
   "pygments_lexer": "ipython3",
   "version": "3.9.12"
  }
 },
 "nbformat": 4,
 "nbformat_minor": 5
}
