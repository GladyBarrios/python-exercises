{
 "cells": [
  {
   "cell_type": "code",
   "execution_count": null,
   "id": "a078bace",
   "metadata": {},
   "outputs": [],
   "source": []
  },
  {
   "cell_type": "code",
   "execution_count": null,
   "id": "2166d8e6",
   "metadata": {},
   "outputs": [],
   "source": []
  },
  {
   "cell_type": "code",
   "execution_count": 3,
   "id": "eca96a51",
   "metadata": {},
   "outputs": [
    {
     "data": {
      "text/plain": [
       "int"
      ]
     },
     "execution_count": 3,
     "metadata": {},
     "output_type": "execute_result"
    }
   ],
   "source": [
    "type(123)\n"
   ]
  },
  {
   "cell_type": "code",
   "execution_count": 4,
   "id": "8ae1839b",
   "metadata": {
    "scrolled": true
   },
   "outputs": [
    {
     "data": {
      "text/plain": [
       "str"
      ]
     },
     "execution_count": 4,
     "metadata": {},
     "output_type": "execute_result"
    }
   ],
   "source": [
    "type('hello')\n"
   ]
  },
  {
   "cell_type": "code",
   "execution_count": 5,
   "id": "5b8085ed",
   "metadata": {
    "scrolled": true
   },
   "outputs": [
    {
     "data": {
      "text/plain": [
       "bool"
      ]
     },
     "execution_count": 5,
     "metadata": {},
     "output_type": "execute_result"
    }
   ],
   "source": [
    "type(True)\n",
    "\n"
   ]
  },
  {
   "cell_type": "code",
   "execution_count": 9,
   "id": "2155c272",
   "metadata": {},
   "outputs": [
    {
     "data": {
      "text/plain": [
       "bool"
      ]
     },
     "execution_count": 9,
     "metadata": {},
     "output_type": "execute_result"
    }
   ],
   "source": [
    "type (False)"
   ]
  },
  {
   "cell_type": "code",
   "execution_count": 10,
   "id": "1c77497d",
   "metadata": {},
   "outputs": [
    {
     "data": {
      "text/plain": [
       "list"
      ]
     },
     "execution_count": 10,
     "metadata": {},
     "output_type": "execute_result"
    }
   ],
   "source": [
    "type ([{}])"
   ]
  },
  {
   "cell_type": "code",
   "execution_count": 11,
   "id": "5bf532ae",
   "metadata": {},
   "outputs": [
    {
     "data": {
      "text/plain": [
       "dict"
      ]
     },
     "execution_count": 11,
     "metadata": {},
     "output_type": "execute_result"
    }
   ],
   "source": [
    "type({'a': []})"
   ]
  },
  {
   "cell_type": "code",
   "execution_count": null,
   "id": "ff3f1414",
   "metadata": {},
   "outputs": [],
   "source": []
  },
  {
   "cell_type": "code",
   "execution_count": null,
   "id": "4c7cf978",
   "metadata": {},
   "outputs": [],
   "source": []
  },
  {
   "cell_type": "markdown",
   "id": "e4857d76",
   "metadata": {},
   "source": [
    "exercise #1 \n",
    "\n",
    "1- this is a int\n",
    "2- str\n",
    "3- bool\n",
    "4-str\n",
    "5-int\n",
    "6- bool\n",
    "7-int because of the ''\n",
    "8- list\n",
    "9- dict "
   ]
  },
  {
   "cell_type": "markdown",
   "id": "a59f32dc",
   "metadata": {},
   "source": [
    "What data type would best represent:\n",
    "\n",
    "1- string\n",
    "2- bool\n",
    "3- i feel like it could be an int or a float\n",
    "4- bool\n",
    "5-string\n",
    "6-dict\n",
    "7- list\n",
    "8- dict\n"
   ]
  },
  {
   "cell_type": "code",
   "execution_count": 1,
   "id": "af39d55f",
   "metadata": {},
   "outputs": [
    {
     "data": {
      "text/plain": [
       "27"
      ]
     },
     "execution_count": 1,
     "metadata": {},
     "output_type": "execute_result"
    }
   ],
   "source": [
    "little_mermaid = 3\n",
    "\n",
    "brother_bear = 5\n",
    "\n",
    "hercules = 1\n",
    "\n",
    "cost_per_day = 3 \n",
    "\n",
    "total = little_mermaid * cost_per_day + hercules * cost_per_day + brother_bear * cost_per_day\n",
    "total"
   ]
  },
  {
   "cell_type": "code",
   "execution_count": 4,
   "id": "7b30cdfb",
   "metadata": {},
   "outputs": [
    {
     "data": {
      "text/plain": [
       "6530"
      ]
     },
     "execution_count": 4,
     "metadata": {},
     "output_type": "execute_result"
    }
   ],
   "source": [
    "Google_pay = 400\n",
    "facebook_pay = 350\n",
    "Amazon_pay = 380\n",
    "\n",
    "hours_worked_google = 8\n",
    "hours_worked_amazon = 6\n",
    "hours_worked_facebook = 3\n",
    "\n",
    "total_pay_google = Google_pay * hours_worked_google\n",
    "total_pay_amazon = Amazon_pay * hours_worked_amazon\n",
    "total_pay_facebook = facebook_pay * hours_worked_facebook\n",
    "\n",
    "\n",
    "total_pay = total_pay_google + total_pay_amazon + total_pay_facebook\n",
    "\n",
    "total_pay\n"
   ]
  },
  {
   "cell_type": "markdown",
   "id": "17ea48b2",
   "metadata": {},
   "source": [
    "A student can be enrolled to a class only if the class is not full and the class schedule does not conflict with her current schedule."
   ]
  },
  {
   "cell_type": "code",
   "execution_count": 29,
   "id": "c860c107",
   "metadata": {},
   "outputs": [
    {
     "name": "stdout",
     "output_type": "stream",
     "text": [
      "True\n"
     ]
    }
   ],
   "source": [
    "class_being_open = True\n",
    "class_conflicting_schedule = False \n",
    "\n",
    "the_new_schedule = class_being_open and not class_conflicting_schedule\n",
    "\n",
    "print (the_new_schedule)"
   ]
  },
  {
   "cell_type": "markdown",
   "id": "bf0de9af",
   "metadata": {},
   "source": [
    "A product offer can be applied only if people buys more than 2 items, and the offer has not expired. Premium members do not need to buy a specific amount of products."
   ]
  },
  {
   "cell_type": "code",
   "execution_count": 41,
   "id": "ee72c449",
   "metadata": {},
   "outputs": [],
   "source": [
    "product_offer = \"Greater_than_two\" and \"not_expired\"\n",
    "\n",
    "Premium_members=\"no_limit_for_purchase\"\n",
    "\n"
   ]
  },
  {
   "cell_type": "markdown",
   "id": "6e5df3f9",
   "metadata": {},
   "source": [
    "Create a variable that holds a boolean value for each of the following conditions:"
   ]
  },
  {
   "cell_type": "code",
   "execution_count": 6,
   "id": "0d4779ca",
   "metadata": {},
   "outputs": [],
   "source": [
    "username = 'codeup'\n",
    "password = 'notastrongpassword'\n"
   ]
  },
  {
   "cell_type": "code",
   "execution_count": 7,
   "id": "dcdab2f3",
   "metadata": {},
   "outputs": [
    {
     "data": {
      "text/plain": [
       "True"
      ]
     },
     "execution_count": 7,
     "metadata": {},
     "output_type": "execute_result"
    }
   ],
   "source": [
    "at_least_five_characters = len(password) > 5\n",
    "at_least_five_characters"
   ]
  },
  {
   "cell_type": "code",
   "execution_count": 9,
   "id": "4bff4c43",
   "metadata": {},
   "outputs": [
    {
     "data": {
      "text/plain": [
       "True"
      ]
     },
     "execution_count": 9,
     "metadata": {},
     "output_type": "execute_result"
    }
   ],
   "source": [
    "username_20_characters_or_less = len(username) <20\n",
    "username_20_characters_or_less"
   ]
  },
  {
   "cell_type": "markdown",
   "id": "9364c252",
   "metadata": {},
   "source": [
    "is the password different than username"
   ]
  },
  {
   "cell_type": "code",
   "execution_count": 8,
   "id": "b700de14",
   "metadata": {},
   "outputs": [],
   "source": [
    "password_is_different_from_username = username != password\n"
   ]
  },
  {
   "cell_type": "markdown",
   "id": "0c5fd0c4",
   "metadata": {},
   "source": [
    "strip w/ no specified character defaults to whitespace"
   ]
  },
  {
   "cell_type": "code",
   "execution_count": 12,
   "id": "a14803a7",
   "metadata": {},
   "outputs": [],
   "source": [
    "\"   con tent  \".strip()\n",
    "\n",
    "username_no_whitespace = username == username.strip()\n",
    "password_no_whitespace = password == password.strip()"
   ]
  },
  {
   "cell_type": "code",
   "execution_count": null,
   "id": "35fc1978",
   "metadata": {},
   "outputs": [],
   "source": []
  },
  {
   "cell_type": "code",
   "execution_count": 13,
   "id": "8224acfe",
   "metadata": {},
   "outputs": [],
   "source": [
    "username_is_good = username_20_characters_or_less and username_no_whitespace\n",
    "password_is_good = at_least_five_characters and password_is_different_from_username and password_no_whitespace\n",
    "\n",
    "credentials_are_good = username_is_good and password_is_good"
   ]
  },
  {
   "cell_type": "code",
   "execution_count": 14,
   "id": "181418e3",
   "metadata": {},
   "outputs": [
    {
     "data": {
      "text/plain": [
       "True"
      ]
     },
     "execution_count": 14,
     "metadata": {},
     "output_type": "execute_result"
    }
   ],
   "source": [
    "credentials_are_good"
   ]
  },
  {
   "cell_type": "code",
   "execution_count": null,
   "id": "63ea79ca",
   "metadata": {},
   "outputs": [],
   "source": []
  },
  {
   "cell_type": "code",
   "execution_count": 23,
   "id": "dc1e7be2",
   "metadata": {},
   "outputs": [
    {
     "data": {
      "text/plain": [
       "True"
      ]
     },
     "execution_count": 23,
     "metadata": {},
     "output_type": "execute_result"
    }
   ],
   "source": [
    "6 >= 5"
   ]
  },
  {
   "cell_type": "code",
   "execution_count": 31,
   "id": "b9053c71",
   "metadata": {},
   "outputs": [
    {
     "data": {
      "text/plain": [
       "True"
      ]
     },
     "execution_count": 31,
     "metadata": {},
     "output_type": "execute_result"
    }
   ],
   "source": [
    "18 <= 20"
   ]
  },
  {
   "cell_type": "code",
   "execution_count": 34,
   "id": "19861674",
   "metadata": {},
   "outputs": [
    {
     "data": {
      "text/plain": [
       "False"
      ]
     },
     "execution_count": 34,
     "metadata": {},
     "output_type": "execute_result"
    }
   ],
   "source": [
    "'username' == 'password'"
   ]
  },
  {
   "cell_type": "code",
   "execution_count": 35,
   "id": "cf260e83",
   "metadata": {},
   "outputs": [
    {
     "data": {
      "text/plain": [
       "False"
      ]
     },
     "execution_count": 35,
     "metadata": {},
     "output_type": "execute_result"
    }
   ],
   "source": [
    "'username'== ' username'"
   ]
  },
  {
   "cell_type": "code",
   "execution_count": 36,
   "id": "6b9a28d9",
   "metadata": {},
   "outputs": [
    {
     "data": {
      "text/plain": [
       "False"
      ]
     },
     "execution_count": 36,
     "metadata": {},
     "output_type": "execute_result"
    }
   ],
   "source": [
    "'password'== ' password'"
   ]
  },
  {
   "cell_type": "code",
   "execution_count": null,
   "id": "bc8651ac",
   "metadata": {},
   "outputs": [],
   "source": []
  }
 ],
 "metadata": {
  "kernelspec": {
   "display_name": "Python 3 (ipykernel)",
   "language": "python",
   "name": "python3"
  },
  "language_info": {
   "codemirror_mode": {
    "name": "ipython",
    "version": 3
   },
   "file_extension": ".py",
   "mimetype": "text/x-python",
   "name": "python",
   "nbconvert_exporter": "python",
   "pygments_lexer": "ipython3",
   "version": "3.9.12"
  }
 },
 "nbformat": 4,
 "nbformat_minor": 5
}
