{
 "cells": [
  {
   "cell_type": "markdown",
   "id": "4bb1c645",
   "metadata": {},
   "source": [
    "Define a function named is_two. It should accept one input and return True if the passed input is either the number or the string 2, False otherwise."
   ]
  },
  {
   "cell_type": "code",
   "execution_count": 2,
   "id": "4355faad",
   "metadata": {},
   "outputs": [],
   "source": [
    "def is_two(n):\n",
    "    if n == 2:\n",
    "        return True\n",
    "    else:\n",
    "        return False \n",
    "    \n",
    "    \n"
   ]
  },
  {
   "cell_type": "code",
   "execution_count": 3,
   "id": "3a719f51",
   "metadata": {
    "scrolled": true
   },
   "outputs": [
    {
     "data": {
      "text/plain": [
       "False"
      ]
     },
     "execution_count": 3,
     "metadata": {},
     "output_type": "execute_result"
    }
   ],
   "source": [
    "is_two(4)"
   ]
  },
  {
   "cell_type": "code",
   "execution_count": null,
   "id": "81ff7cf5",
   "metadata": {},
   "outputs": [],
   "source": []
  },
  {
   "cell_type": "code",
   "execution_count": 36,
   "id": "b7f51f1f",
   "metadata": {},
   "outputs": [],
   "source": [
    "vowels = \"aeiouAEIOU\"\n",
    "\n",
    "\n",
    "def is_vowel(vowel):\n",
    "    if vowel in vowels:\n",
    "        return True\n",
    "    else:\n",
    "        return False"
   ]
  },
  {
   "cell_type": "code",
   "execution_count": 10,
   "id": "cbbd78a5",
   "metadata": {},
   "outputs": [
    {
     "data": {
      "text/plain": [
       "True"
      ]
     },
     "execution_count": 10,
     "metadata": {},
     "output_type": "execute_result"
    }
   ],
   "source": [
    "is_vowel('u')"
   ]
  },
  {
   "cell_type": "code",
   "execution_count": 15,
   "id": "f5bfc61d",
   "metadata": {},
   "outputs": [
    {
     "data": {
      "text/plain": [
       "True"
      ]
     },
     "execution_count": 15,
     "metadata": {},
     "output_type": "execute_result"
    }
   ],
   "source": [
    "is_vowel('a')"
   ]
  },
  {
   "cell_type": "code",
   "execution_count": 20,
   "id": "82c11f68",
   "metadata": {
    "scrolled": true
   },
   "outputs": [],
   "source": [
    "vowels = \"aeiouAEIOU\"\n",
    "\n",
    "def is_consonant(consonant):\n",
    "    if consonant not in vowels:\n",
    "        return True\n",
    "    else:\n",
    "        return False\n",
    "    "
   ]
  },
  {
   "cell_type": "code",
   "execution_count": 17,
   "id": "97630cb8",
   "metadata": {},
   "outputs": [
    {
     "data": {
      "text/plain": [
       "False"
      ]
     },
     "execution_count": 17,
     "metadata": {},
     "output_type": "execute_result"
    }
   ],
   "source": [
    "is_consonant('e')"
   ]
  },
  {
   "cell_type": "code",
   "execution_count": 18,
   "id": "b12c1d72",
   "metadata": {},
   "outputs": [
    {
     "data": {
      "text/plain": [
       "True"
      ]
     },
     "execution_count": 18,
     "metadata": {},
     "output_type": "execute_result"
    }
   ],
   "source": [
    "is_consonant('p')"
   ]
  },
  {
   "cell_type": "code",
   "execution_count": 4,
   "id": "db8141d0",
   "metadata": {},
   "outputs": [],
   "source": [
    "#def is_consonant(string):\n",
    "    #return len(string) == 1 and not is_vowel(string) and string.isalpha()\n",
    "\n",
    "#if the lenght of the string is 1 and for it not to be a vowel and the string is isalpha?\n",
    "#The isalpha() method returns True if all the characters are alphabet letters (a-z)"
   ]
  },
  {
   "cell_type": "markdown",
   "id": "156b396e",
   "metadata": {},
   "source": [
    "Define a function that accepts a string \n",
    "\n",
    "that is a word. \n",
    "\n",
    "The function should capitalize the first letter of the word\n",
    "\n",
    "if the word starts with a consonant."
   ]
  },
  {
   "cell_type": "code",
   "execution_count": 32,
   "id": "6043ba9f",
   "metadata": {},
   "outputs": [],
   "source": [
    "def capitalize_starting_consonant(string):\n",
    "    first_letter = string[0] #the brackets [0] means they are reaching the first letter* remeber that zero on pythn means 1 \n",
    "    if is_consonant(first_letter):# this was using the expression from earlier \n",
    "        string = string.capitalize()#this one is telling it to capitalize it \n",
    "    return string"
   ]
  },
  {
   "cell_type": "code",
   "execution_count": 31,
   "id": "82e91f1d",
   "metadata": {},
   "outputs": [
    {
     "data": {
      "text/plain": [
       "'Cow'"
      ]
     },
     "execution_count": 31,
     "metadata": {},
     "output_type": "execute_result"
    }
   ],
   "source": [
    "capitalize_starting_consonant('cow')"
   ]
  },
  {
   "cell_type": "markdown",
   "id": "d481d7b8",
   "metadata": {},
   "source": [
    "Define a function named calculate_tip. It should accept a tip percentage (a number between 0 and 1) and the bill total, and return the amount to tip."
   ]
  },
  {
   "cell_type": "code",
   "execution_count": 13,
   "id": "945589ca",
   "metadata": {},
   "outputs": [],
   "source": [
    "def calculate_tip(tip_percentage, bill):\n",
    "    amount_to_tip = bill * tip_percentage\n",
    "    return amount_to_tip"
   ]
  },
  {
   "cell_type": "code",
   "execution_count": 16,
   "id": "b2c2a8bc",
   "metadata": {},
   "outputs": [
    {
     "data": {
      "text/plain": [
       "18.0"
      ]
     },
     "execution_count": 16,
     "metadata": {},
     "output_type": "execute_result"
    }
   ],
   "source": [
    "calculate_tip(15, 1.2)"
   ]
  },
  {
   "cell_type": "markdown",
   "id": "d75054a3",
   "metadata": {},
   "source": [
    "Define a function named apply_discount. It should accept a original price, and a discount percentage, and return the price after the discount is applied.\n"
   ]
  },
  {
   "cell_type": "code",
   "execution_count": 13,
   "id": "15d5b724",
   "metadata": {},
   "outputs": [],
   "source": [
    "def apply_discount(orig_price, discount):\n",
    "    total_price = orig_price * discount\n",
    "    return orig_price - total_price\n"
   ]
  },
  {
   "cell_type": "code",
   "execution_count": 14,
   "id": "c199dc68",
   "metadata": {},
   "outputs": [
    {
     "data": {
      "text/plain": [
       "20.240000000000002"
      ]
     },
     "execution_count": 14,
     "metadata": {},
     "output_type": "execute_result"
    }
   ],
   "source": [
    "apply_discount(23, .12)"
   ]
  },
  {
   "cell_type": "markdown",
   "id": "a930b8a7",
   "metadata": {},
   "source": [
    "Define a function named handle_commas. It should accept a string that is a number that contains commas in it as input, and return a number as output.\n"
   ]
  },
  {
   "cell_type": "code",
   "execution_count": 15,
   "id": "3fbe8e2a",
   "metadata": {},
   "outputs": [],
   "source": [
    "# Exercise 7\n",
    "# Define a function named handle_commas. \n",
    "# It should accept a string that is a number that contains \n",
    "# commas in it as input, \n",
    "# and return a number as output.\n",
    "#i keep forgetting about the replace \n",
    "\n",
    "def handle_commas(string):\n",
    "    no_comma = string.replace(',', '')\n",
    "    new_number = int(no_comma)\n",
    "    return new_number\n"
   ]
  },
  {
   "cell_type": "code",
   "execution_count": 16,
   "id": "aae6248c",
   "metadata": {},
   "outputs": [
    {
     "data": {
      "text/plain": [
       "1245"
      ]
     },
     "execution_count": 16,
     "metadata": {},
     "output_type": "execute_result"
    }
   ],
   "source": [
    "handle_commas('1,245')"
   ]
  },
  {
   "cell_type": "markdown",
   "id": "2b92943d",
   "metadata": {},
   "source": [
    "Define a function named get_letter_grade. It should accept a number and return the letter grade associated with that number (A-F)."
   ]
  },
  {
   "cell_type": "code",
   "execution_count": 17,
   "id": "c3eeb9d1",
   "metadata": {},
   "outputs": [],
   "source": [
    " #accepting a number \n",
    "# and get a letter grade in return \n",
    "    \n",
    "    \n",
    "    \n",
    "def get_letter_grade(grade):\n",
    "    if grade >= 90:\n",
    "        return \"A\"\n",
    "    elif grade >= 80:\n",
    "        return \"B\"\n",
    "    elif grade >= 70:\n",
    "        return \"C\"\n",
    "    elif grade >= 60:\n",
    "        return \"D\"\n",
    "    else:\n",
    "        return \"F\"\n",
    "\n",
    "\n",
    "        "
   ]
  },
  {
   "cell_type": "code",
   "execution_count": 18,
   "id": "073f3f12",
   "metadata": {},
   "outputs": [
    {
     "data": {
      "text/plain": [
       "'F'"
      ]
     },
     "execution_count": 18,
     "metadata": {},
     "output_type": "execute_result"
    }
   ],
   "source": [
    "get_letter_grade(23)"
   ]
  },
  {
   "cell_type": "code",
   "execution_count": 19,
   "id": "66b869bf",
   "metadata": {},
   "outputs": [
    {
     "data": {
      "text/plain": [
       "'C'"
      ]
     },
     "execution_count": 19,
     "metadata": {},
     "output_type": "execute_result"
    }
   ],
   "source": [
    "get_letter_grade(73)"
   ]
  },
  {
   "cell_type": "markdown",
   "id": "6de606a7",
   "metadata": {},
   "source": [
    "Define a function named remove_vowels that accepts a string and returns a string with all the vowels removed."
   ]
  },
  {
   "cell_type": "code",
   "execution_count": 37,
   "id": "ce68c0e5",
   "metadata": {},
   "outputs": [],
   "source": [
    "def remove_vowels(string):\n",
    "    output = ''#when there is a character \"char\" in string \n",
    "    for char in string:# it knows to put a blank output when the cahacter is NOT a consosnant\n",
    "        if is_consonant(char):#but you have to show that the consonants do have to show \n",
    "            output += char\n",
    "    return output#and returnen what you have refrnced "
   ]
  },
  {
   "cell_type": "code",
   "execution_count": 38,
   "id": "e0e8ffc1",
   "metadata": {},
   "outputs": [
    {
     "data": {
      "text/plain": [
       "'dggy'"
      ]
     },
     "execution_count": 38,
     "metadata": {},
     "output_type": "execute_result"
    }
   ],
   "source": [
    "remove_vowels('doggy')"
   ]
  },
  {
   "cell_type": "code",
   "execution_count": null,
   "id": "2b856eec",
   "metadata": {},
   "outputs": [],
   "source": [
    "\n"
   ]
  },
  {
   "cell_type": "code",
   "execution_count": 39,
   "id": "70713d9b",
   "metadata": {},
   "outputs": [
    {
     "data": {
      "text/plain": [
       "'cw'"
      ]
     },
     "execution_count": 39,
     "metadata": {},
     "output_type": "execute_result"
    }
   ],
   "source": [
    "remove_vowels('cow')"
   ]
  },
  {
   "cell_type": "markdown",
   "id": "446851ca",
   "metadata": {},
   "source": [
    "Define a function named normalize_name. \n",
    "It should accept a string and return a valid python identifier, that is:\n",
    "\n",
    "\n",
    "anything that is not a valid python identifier should be removed\n",
    "** not sure what this means  ???\n",
    "** like not a number ???\n",
    "-- explinations-- no blanks or special characters.\n",
    "\n",
    "\n",
    "leading and trailing whitespace should be removed\n",
    "everything should be lowercase\n",
    "\n",
    "--removing white space in the front or back of the name\n",
    "-- everything lowercase\n",
    "-- this was in the data types part of python* using the .stip function\n",
    "\n",
    "\n",
    "  \n",
    " \n",
    " \n",
    "spaces should be replaced with underscores\n",
    "for example:\n",
    "\n",
    "any blank space in the middel of the word \n",
    " -- im thinking this is a .replace function\n",
    "\n",
    "Name will become name\n",
    "First Name will become first_name\n",
    "% Completed will become completed"
   ]
  },
  {
   "cell_type": "code",
   "execution_count": 40,
   "id": "2288d065",
   "metadata": {},
   "outputs": [],
   "source": [
    "def remove_special_char(string):\n",
    "    return ''.join([c for c in string if c.isalnum() or c == ' '])\n",
    "\n",
    "\n",
    "\n",
    "\n",
    "def normalize_name(string):\n",
    "    special_char_removed = remove_special_char(string)\n",
    "    return special_char_removed.lower().strip().replace(' ', '_')\n",
    "    \n",
    "    \n",
    "    "
   ]
  },
  {
   "cell_type": "markdown",
   "id": "414b874c",
   "metadata": {},
   "source": [
    "Write a function named cumulative_sum that accepts a list of numbers and returns a list that is the cumulative sum of the numbers in the list.\n",
    "cumulative_sum([1, 1, 1]) returns [1, 2, 3]\n",
    "cumulative_sum([1, 2, 3, 4]) returns [1, 3, 6, 10]"
   ]
  },
  {
   "cell_type": "code",
   "execution_count": 41,
   "id": "6a99de25",
   "metadata": {},
   "outputs": [
    {
     "data": {
      "text/plain": [
       "'pizza'"
      ]
     },
     "execution_count": 41,
     "metadata": {},
     "output_type": "execute_result"
    }
   ],
   "source": [
    "normalize_name('Pizza')"
   ]
  },
  {
   "cell_type": "code",
   "execution_count": 42,
   "id": "a91f134d",
   "metadata": {},
   "outputs": [
    {
     "data": {
      "text/plain": [
       "'hamburger'"
      ]
     },
     "execution_count": 42,
     "metadata": {},
     "output_type": "execute_result"
    }
   ],
   "source": [
    "normalize_name('HamburGER')"
   ]
  },
  {
   "cell_type": "code",
   "execution_count": 43,
   "id": "64296623",
   "metadata": {},
   "outputs": [
    {
     "data": {
      "text/plain": [
       "'Cheese'"
      ]
     },
     "execution_count": 43,
     "metadata": {},
     "output_type": "execute_result"
    }
   ],
   "source": [
    "remove_special_char('#$Cheese*&')"
   ]
  },
  {
   "cell_type": "code",
   "execution_count": null,
   "id": "b9f7815c",
   "metadata": {},
   "outputs": [],
   "source": []
  },
  {
   "cell_type": "markdown",
   "id": "b8658819",
   "metadata": {},
   "source": [
    "Exercise 11\n",
    "Write a function named cumulative_sum that accepts a list of numbers and returns a list that is the cumulative sum of the numbers in the list.\n",
    "cumulative_sum([1, 1, 1]) returns [1, 2, 3]\n",
    "cumulative_sum([1, 2, 3, 4]) returns [1, 3, 6, 10]"
   ]
  },
  {
   "cell_type": "code",
   "execution_count": 44,
   "id": "633078be",
   "metadata": {},
   "outputs": [],
   "source": [
    "def cumulative_sum(nums):\n",
    "    output = []\n",
    "    total = 0\n",
    "    for num in nums:\n",
    "        total += num\n",
    "        output.append(total)\n",
    "    return output"
   ]
  },
  {
   "cell_type": "code",
   "execution_count": 45,
   "id": "559300ee",
   "metadata": {},
   "outputs": [
    {
     "data": {
      "text/plain": [
       "[1, 5, 10, 17]"
      ]
     },
     "execution_count": 45,
     "metadata": {},
     "output_type": "execute_result"
    }
   ],
   "source": [
    "cumulative_sum([1, 4, 5, 7])"
   ]
  },
  {
   "cell_type": "code",
   "execution_count": null,
   "id": "78176f64",
   "metadata": {},
   "outputs": [],
   "source": []
  }
 ],
 "metadata": {
  "kernelspec": {
   "display_name": "Python 3 (ipykernel)",
   "language": "python",
   "name": "python3"
  },
  "language_info": {
   "codemirror_mode": {
    "name": "ipython",
    "version": 3
   },
   "file_extension": ".py",
   "mimetype": "text/x-python",
   "name": "python",
   "nbconvert_exporter": "python",
   "pygments_lexer": "ipython3",
   "version": "3.9.12"
  }
 },
 "nbformat": 4,
 "nbformat_minor": 5
}
