{
 "cells": [
  {
   "cell_type": "code",
   "execution_count": 1,
   "id": "eb2ebe92",
   "metadata": {},
   "outputs": [],
   "source": [
    "import matplotlib.pyplot as plt "
   ]
  },
  {
   "cell_type": "code",
   "execution_count": 2,
   "id": "d46eb678",
   "metadata": {},
   "outputs": [],
   "source": [
    "import math"
   ]
  },
  {
   "cell_type": "code",
   "execution_count": null,
   "id": "c8d431da",
   "metadata": {},
   "outputs": [],
   "source": []
  },
  {
   "cell_type": "code",
   "execution_count": null,
   "id": "76af3f4d",
   "metadata": {},
   "outputs": [],
   "source": []
  },
  {
   "cell_type": "code",
   "execution_count": null,
   "id": "399fa136",
   "metadata": {},
   "outputs": [],
   "source": []
  },
  {
   "cell_type": "code",
   "execution_count": 37,
   "id": "fcf664af",
   "metadata": {},
   "outputs": [
    {
     "ename": "ValueError",
     "evalue": "math domain error",
     "output_type": "error",
     "traceback": [
      "\u001b[0;31m---------------------------------------------------------------------------\u001b[0m",
      "\u001b[0;31mValueError\u001b[0m                                Traceback (most recent call last)",
      "Input \u001b[0;32mIn [37]\u001b[0m, in \u001b[0;36m<cell line: 5>\u001b[0;34m()\u001b[0m\n\u001b[1;32m      1\u001b[0m n \u001b[38;5;241m=\u001b[39m \u001b[38;5;28mrange\u001b[39m(\u001b[38;5;241m0\u001b[39m,\u001b[38;5;241m100\u001b[39m)\n\u001b[1;32m      4\u001b[0m y1 \u001b[38;5;241m=\u001b[39m [\u001b[38;5;241m0\u001b[39m\u001b[38;5;241m*\u001b[39mn \u001b[38;5;241m+\u001b[39m \u001b[38;5;241m1\u001b[39m \u001b[38;5;28;01mfor\u001b[39;00m n \u001b[38;5;129;01min\u001b[39;00m n]\n\u001b[0;32m----> 5\u001b[0m y2 \u001b[38;5;241m=\u001b[39m [math\u001b[38;5;241m.\u001b[39mlog(n) \u001b[38;5;28;01mfor\u001b[39;00m n \u001b[38;5;129;01min\u001b[39;00m n]\n\u001b[1;32m      6\u001b[0m y3 \u001b[38;5;241m=\u001b[39m [n \u001b[38;5;28;01mfor\u001b[39;00m n \u001b[38;5;129;01min\u001b[39;00m n]\n\u001b[1;32m      7\u001b[0m y4 \u001b[38;5;241m=\u001b[39m [n \u001b[38;5;241m*\u001b[39m math\u001b[38;5;241m.\u001b[39mlog(n) \u001b[38;5;28;01mfor\u001b[39;00m n \u001b[38;5;129;01min\u001b[39;00m n]\n",
      "Input \u001b[0;32mIn [37]\u001b[0m, in \u001b[0;36m<listcomp>\u001b[0;34m(.0)\u001b[0m\n\u001b[1;32m      1\u001b[0m n \u001b[38;5;241m=\u001b[39m \u001b[38;5;28mrange\u001b[39m(\u001b[38;5;241m0\u001b[39m,\u001b[38;5;241m100\u001b[39m)\n\u001b[1;32m      4\u001b[0m y1 \u001b[38;5;241m=\u001b[39m [\u001b[38;5;241m0\u001b[39m\u001b[38;5;241m*\u001b[39mn \u001b[38;5;241m+\u001b[39m \u001b[38;5;241m1\u001b[39m \u001b[38;5;28;01mfor\u001b[39;00m n \u001b[38;5;129;01min\u001b[39;00m n]\n\u001b[0;32m----> 5\u001b[0m y2 \u001b[38;5;241m=\u001b[39m [\u001b[43mmath\u001b[49m\u001b[38;5;241;43m.\u001b[39;49m\u001b[43mlog\u001b[49m\u001b[43m(\u001b[49m\u001b[43mn\u001b[49m\u001b[43m)\u001b[49m \u001b[38;5;28;01mfor\u001b[39;00m n \u001b[38;5;129;01min\u001b[39;00m n]\n\u001b[1;32m      6\u001b[0m y3 \u001b[38;5;241m=\u001b[39m [n \u001b[38;5;28;01mfor\u001b[39;00m n \u001b[38;5;129;01min\u001b[39;00m n]\n\u001b[1;32m      7\u001b[0m y4 \u001b[38;5;241m=\u001b[39m [n \u001b[38;5;241m*\u001b[39m math\u001b[38;5;241m.\u001b[39mlog(n) \u001b[38;5;28;01mfor\u001b[39;00m n \u001b[38;5;129;01min\u001b[39;00m n]\n",
      "\u001b[0;31mValueError\u001b[0m: math domain error"
     ]
    }
   ],
   "source": [
    "n = range(0,100)\n",
    "\n",
    "\n",
    "y1 = [0*n + 1 for n in n]\n",
    "y2 = [math.log(n) for n in n]\n",
    "y3 = [n for n in n]\n",
    "y4 = [n * math.log(n) for n in n]\n",
    "y5 = [n** 2 for n in n]\n",
    "y6 = [2 ** n for n in n]\n",
    "y7 = [n!= n for n in n]\n",
    "y8 = [n ** n for n in n]"
   ]
  },
  {
   "cell_type": "code",
   "execution_count": 36,
   "id": "bc05cfc7",
   "metadata": {},
   "outputs": [
    {
     "name": "stderr",
     "output_type": "stream",
     "text": [
      "No artists with labels found to put in legend.  Note that artists whose label start with an underscore are ignored when legend() is called with no argument.\n"
     ]
    },
    {
     "data": {
      "text/plain": [
       "<matplotlib.legend.Legend at 0x15476db80>"
      ]
     },
     "execution_count": 36,
     "metadata": {},
     "output_type": "execute_result"
    },
    {
     "data": {
      "image/png": "[encoded data removed]",
      "text/plain": [
       "<Figure size 576x576 with 1 Axes>"
      ]
     },
     "metadata": {
      "needs_background": "light"
     },
     "output_type": "display_data"
    }
   ],
   "source": [
    "\n",
    "plt.figure(figsize = (8,8))\n",
    "\n",
    "plt.title('Big O Notation')\n",
    "\n",
    "plt.xlabel('Elements')\n",
    "\n",
    "plt.ylabel('Operations')\n",
    "\n",
    "plt.legend(loc = 'upper center')\n",
    "\n",
    "plt.plot(n,y1, color = 'grey', label = 'O(1)')\n",
    "\n",
    "plt.plot(n,y2, color = 'green', label = 'O(log n)')\n",
    "         \n",
    "plt.plot(n,y3, color = 'red', label = 'O(n)')\n",
    "         \n",
    "plt.plot(n, y4,color = 'blue', label = 'O(n log n)')         \n",
    "         \n",
    "plt.plot(n, y5,color = 'm', label = 'O(n^2)')         \n",
    "         \n",
    "plt.plot(n, y6, color = 'white',label = 'O(2^n)')         \n",
    "         \n",
    "plt.plot(n, y7, color = 'purple', label = 'O(n!)')\n",
    "         \n",
    "plt.plot(n, y8, color = 'yellow', label = 'O(n^n)') \n",
    "\n",
    "plt.legend(loc = 'upper center')\n",
    "         "
   ]
  },
  {
   "cell_type": "code",
   "execution_count": null,
   "id": "3ff6f079",
   "metadata": {},
   "outputs": [],
   "source": []
  },
  {
   "cell_type": "code",
   "execution_count": null,
   "id": "46fb5494",
   "metadata": {},
   "outputs": [],
   "source": []
  },
  {
   "cell_type": "code",
   "execution_count": null,
   "id": "657efde3",
   "metadata": {},
   "outputs": [],
   "source": []
  },
  {
   "cell_type": "code",
   "execution_count": null,
   "id": "d92ab4f1",
   "metadata": {},
   "outputs": [],
   "source": []
  },
  {
   "cell_type": "code",
   "execution_count": null,
   "id": "864c62a9",
   "metadata": {},
   "outputs": [],
   "source": []
  },
  {
   "cell_type": "code",
   "execution_count": null,
   "id": "71f96840",
   "metadata": {},
   "outputs": [],
   "source": []
  },
  {
   "cell_type": "code",
   "execution_count": null,
   "id": "a51e05e2",
   "metadata": {},
   "outputs": [],
   "source": []
  },
  {
   "cell_type": "code",
   "execution_count": null,
   "id": "32ed8061",
   "metadata": {},
   "outputs": [],
   "source": []
  }
 ],
 "metadata": {
  "kernelspec": {
   "display_name": "Python 3 (ipykernel)",
   "language": "python",
   "name": "python3"
  },
  "language_info": {
   "codemirror_mode": {
    "name": "ipython",
    "version": 3
   },
   "file_extension": ".py",
   "mimetype": "text/x-python",
   "name": "python",
   "nbconvert_exporter": "python",
   "pygments_lexer": "ipython3",
   "version": "3.9.12"
  }
 },
 "nbformat": 4,
 "nbformat_minor": 5
}
