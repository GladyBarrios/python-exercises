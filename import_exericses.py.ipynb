{
 "cells": [
  {
   "cell_type": "code",
   "execution_count": 1,
   "id": "b7b527f3",
   "metadata": {},
   "outputs": [],
   "source": [
    "import math"
   ]
  },
  {
   "cell_type": "code",
   "execution_count": null,
   "id": "109de446",
   "metadata": {},
   "outputs": [],
   "source": []
  },
  {
   "cell_type": "markdown",
   "id": "9504a5d3",
   "metadata": {},
   "source": [
    "Create a file named import_exericses.py. Within this file, use from to import the calculate_tip function directly. Call this function with values you choose and print the result."
   ]
  },
  {
   "cell_type": "code",
   "execution_count": 2,
   "id": "94d2c062",
   "metadata": {},
   "outputs": [],
   "source": [
    "import function"
   ]
  },
  {
   "cell_type": "code",
   "execution_count": 3,
   "id": "f2984f43",
   "metadata": {},
   "outputs": [],
   "source": [
    "import function as f"
   ]
  },
  {
   "cell_type": "code",
   "execution_count": 4,
   "id": "fa7b95be",
   "metadata": {},
   "outputs": [
    {
     "data": {
      "text/plain": [
       "2.8000000000000003"
      ]
     },
     "execution_count": 4,
     "metadata": {},
     "output_type": "execute_result"
    }
   ],
   "source": [
    "f.calculate_tip(14,.2)"
   ]
  },
  {
   "cell_type": "markdown",
   "id": "28ab3a9b",
   "metadata": {},
   "source": [
    "Create a jupyter notebook named import_exercises.ipynb. Use from to import the get_letter_grade function and give it an alias. Test this function in your notebook."
   ]
  },
  {
   "cell_type": "code",
   "execution_count": 5,
   "id": "a09563a6",
   "metadata": {},
   "outputs": [
    {
     "data": {
      "text/plain": [
       "'D'"
      ]
     },
     "execution_count": 5,
     "metadata": {},
     "output_type": "execute_result"
    }
   ],
   "source": [
    "f.get_letter_grade(62)"
   ]
  },
  {
   "cell_type": "markdown",
   "id": "50eb2fa8",
   "metadata": {},
   "source": [
    "Run an interactive python session and import the module. Call the is_vowel function using the . syntax."
   ]
  },
  {
   "cell_type": "code",
   "execution_count": 6,
   "id": "6a05a407",
   "metadata": {
    "scrolled": false
   },
   "outputs": [
    {
     "data": {
      "text/plain": [
       "True"
      ]
     },
     "execution_count": 6,
     "metadata": {},
     "output_type": "execute_result"
    }
   ],
   "source": [
    "f.is_vowel('e')\n"
   ]
  },
  {
   "cell_type": "markdown",
   "id": "894aa407",
   "metadata": {},
   "source": [
    "#Read about and use the itertools module from the python standard library to help you solve the following problems:\n",
    "\n",
    "1)How many different ways can you combine the letters from \"abc\" with the numbers 1, 2, and 3?\n",
    "\n",
    "\n",
    "2)How many different combinations are there of 2 letters from \"abcd\"?\n",
    "\n",
    "\n",
    "\n",
    "3)How many different permutations are there of 2 letters from \"abcd\"?\n",
    "\n",
    "\n"
   ]
  },
  {
   "cell_type": "code",
   "execution_count": 7,
   "id": "cf92c74b",
   "metadata": {},
   "outputs": [],
   "source": [
    "import itertools"
   ]
  },
  {
   "cell_type": "code",
   "execution_count": 8,
   "id": "649a11fd",
   "metadata": {},
   "outputs": [],
   "source": [
    "import pandas as pd"
   ]
  },
  {
   "cell_type": "code",
   "execution_count": 9,
   "id": "3a9d3309",
   "metadata": {},
   "outputs": [
    {
     "data": {
      "text/plain": [
       "[('a', 1),\n",
       " ('a', 2),\n",
       " ('a', 3),\n",
       " ('b', 1),\n",
       " ('b', 2),\n",
       " ('b', 3),\n",
       " ('c', 1),\n",
       " ('c', 2),\n",
       " ('c', 3)]"
      ]
     },
     "execution_count": 9,
     "metadata": {},
     "output_type": "execute_result"
    }
   ],
   "source": [
    "list(itertools.product(\"abc\", [1, 2, 3]))"
   ]
  },
  {
   "cell_type": "code",
   "execution_count": 10,
   "id": "8d12680b",
   "metadata": {},
   "outputs": [
    {
     "name": "stdout",
     "output_type": "stream",
     "text": [
      "You can combine \"abc\" and 123 9 different ways.\n"
     ]
    }
   ],
   "source": [
    "num_combo = len(list(itertools.product(\"abc\", [1, 2, 3])))\n",
    "print(f\"You can combine \\\"abc\\\" and 123 {num_combo} different ways.\")"
   ]
  },
  {
   "cell_type": "code",
   "execution_count": 11,
   "id": "e18cbe74",
   "metadata": {},
   "outputs": [
    {
     "data": {
      "text/plain": [
       "6"
      ]
     },
     "execution_count": 11,
     "metadata": {},
     "output_type": "execute_result"
    }
   ],
   "source": [
    "len(list(itertools.combinations(\"abcd\", 2)))"
   ]
  },
  {
   "cell_type": "code",
   "execution_count": 12,
   "id": "986bdda7",
   "metadata": {},
   "outputs": [
    {
     "data": {
      "text/plain": [
       "12"
      ]
     },
     "execution_count": 12,
     "metadata": {},
     "output_type": "execute_result"
    }
   ],
   "source": [
    "len(list(itertools.permutations(\"abcd\", 2)))\n"
   ]
  },
  {
   "cell_type": "code",
   "execution_count": null,
   "id": "0d83a3b8",
   "metadata": {},
   "outputs": [],
   "source": []
  },
  {
   "cell_type": "code",
   "execution_count": 13,
   "id": "67176d06",
   "metadata": {},
   "outputs": [],
   "source": [
    "import json\n",
    "\n"
   ]
  },
  {
   "cell_type": "code",
   "execution_count": 18,
   "id": "1da28ea6",
   "metadata": {},
   "outputs": [],
   "source": [
    "\n",
    "\n",
    "profiles = json.load(open('profiles.json'))\n"
   ]
  },
  {
   "cell_type": "markdown",
   "id": "04a0da73",
   "metadata": {},
   "source": [
    "Cleaning a Single String"
   ]
  },
  {
   "cell_type": "code",
   "execution_count": 15,
   "id": "7b75f2ce",
   "metadata": {},
   "outputs": [
    {
     "name": "stdout",
     "output_type": "stream",
     "text": [
      "2,097.02\n",
      "2097.02\n"
     ]
    },
    {
     "data": {
      "text/plain": [
       "float"
      ]
     },
     "execution_count": 15,
     "metadata": {},
     "output_type": "execute_result"
    }
   ],
   "source": [
    "string = '$2,097.02'\n",
    "string = string.replace(\"$\", \"\")\n",
    "print(string)\n",
    "string = string.replace(\",\", \"\")\n",
    "print(string)\n",
    "string = float(string)\n",
    "type(string)"
   ]
  },
  {
   "cell_type": "code",
   "execution_count": 35,
   "id": "2ec63254",
   "metadata": {},
   "outputs": [],
   "source": [
    "def clean_balance(balance):\n",
    "    balance = balance.replace(\"$\", \"\")\n",
    "    balance = balance.replace(\",\", \"\")\n",
    "    return float(balance)"
   ]
  },
  {
   "cell_type": "code",
   "execution_count": null,
   "id": "a22843d7",
   "metadata": {},
   "outputs": [],
   "source": []
  },
  {
   "cell_type": "code",
   "execution_count": 36,
   "id": "d351eedd",
   "metadata": {},
   "outputs": [
    {
     "ename": "AttributeError",
     "evalue": "'float' object has no attribute 'replace'",
     "output_type": "error",
     "traceback": [
      "\u001b[0;31m---------------------------------------------------------------------------\u001b[0m",
      "\u001b[0;31mAttributeError\u001b[0m                            Traceback (most recent call last)",
      "Input \u001b[0;32mIn [36]\u001b[0m, in \u001b[0;36m<cell line: 1>\u001b[0;34m()\u001b[0m\n\u001b[1;32m      1\u001b[0m \u001b[38;5;28;01mfor\u001b[39;00m profile \u001b[38;5;129;01min\u001b[39;00m profiles:\n\u001b[0;32m----> 2\u001b[0m     profile[\u001b[38;5;124m'\u001b[39m\u001b[38;5;124mbalance\u001b[39m\u001b[38;5;124m'\u001b[39m] \u001b[38;5;241m=\u001b[39m \u001b[43mclean_balance\u001b[49m\u001b[43m(\u001b[49m\u001b[43mprofile\u001b[49m\u001b[43m[\u001b[49m\u001b[38;5;124;43m'\u001b[39;49m\u001b[38;5;124;43mbalance\u001b[39;49m\u001b[38;5;124;43m'\u001b[39;49m\u001b[43m]\u001b[49m\u001b[43m)\u001b[49m\n",
      "Input \u001b[0;32mIn [35]\u001b[0m, in \u001b[0;36mclean_balance\u001b[0;34m(balance)\u001b[0m\n\u001b[1;32m      1\u001b[0m \u001b[38;5;28;01mdef\u001b[39;00m \u001b[38;5;21mclean_balance\u001b[39m(balance):\n\u001b[0;32m----> 2\u001b[0m     balance \u001b[38;5;241m=\u001b[39m \u001b[43mbalance\u001b[49m\u001b[38;5;241;43m.\u001b[39;49m\u001b[43mreplace\u001b[49m(\u001b[38;5;124m\"\u001b[39m\u001b[38;5;124m$\u001b[39m\u001b[38;5;124m\"\u001b[39m, \u001b[38;5;124m\"\u001b[39m\u001b[38;5;124m\"\u001b[39m)\n\u001b[1;32m      3\u001b[0m     balance \u001b[38;5;241m=\u001b[39m balance\u001b[38;5;241m.\u001b[39mreplace(\u001b[38;5;124m\"\u001b[39m\u001b[38;5;124m,\u001b[39m\u001b[38;5;124m\"\u001b[39m, \u001b[38;5;124m\"\u001b[39m\u001b[38;5;124m\"\u001b[39m)\n\u001b[1;32m      4\u001b[0m     \u001b[38;5;28;01mreturn\u001b[39;00m \u001b[38;5;28mfloat\u001b[39m(balance)\n",
      "\u001b[0;31mAttributeError\u001b[0m: 'float' object has no attribute 'replace'"
     ]
    }
   ],
   "source": [
    "for profile in profiles:\n",
    "    profile['balance'] = clean_balance(profile['balance'])"
   ]
  },
  {
   "cell_type": "code",
   "execution_count": 37,
   "id": "7cb8f661",
   "metadata": {},
   "outputs": [
    {
     "data": {
      "text/plain": [
       "float"
      ]
     },
     "execution_count": 37,
     "metadata": {},
     "output_type": "execute_result"
    }
   ],
   "source": [
    "type(profiles[0]['balance'])"
   ]
  },
  {
   "cell_type": "markdown",
   "id": "a79f3bf6",
   "metadata": {},
   "source": [
    "Total number of users"
   ]
  },
  {
   "cell_type": "code",
   "execution_count": 19,
   "id": "766c0cbf",
   "metadata": {},
   "outputs": [
    {
     "data": {
      "text/plain": [
       "19"
      ]
     },
     "execution_count": 19,
     "metadata": {},
     "output_type": "execute_result"
    }
   ],
   "source": [
    "len(profiles)"
   ]
  },
  {
   "cell_type": "code",
   "execution_count": 38,
   "id": "d0da1cc3",
   "metadata": {},
   "outputs": [
    {
     "data": {
      "text/plain": [
       "19"
      ]
     },
     "execution_count": 38,
     "metadata": {},
     "output_type": "execute_result"
    }
   ],
   "source": [
    "total_num_users = len(set(profile_ids))\n",
    "total_num_users"
   ]
  },
  {
   "cell_type": "markdown",
   "id": "840a7967",
   "metadata": {},
   "source": [
    "Number of active users"
   ]
  },
  {
   "cell_type": "code",
   "execution_count": 20,
   "id": "da1dea26",
   "metadata": {
    "scrolled": true
   },
   "outputs": [
    {
     "data": {
      "text/plain": [
       "False"
      ]
     },
     "execution_count": 20,
     "metadata": {},
     "output_type": "execute_result"
    }
   ],
   "source": [
    "profiles[0]['isActive']"
   ]
  },
  {
   "cell_type": "code",
   "execution_count": 26,
   "id": "34c9e794",
   "metadata": {},
   "outputs": [
    {
     "data": {
      "text/plain": [
       "bool"
      ]
     },
     "execution_count": 26,
     "metadata": {},
     "output_type": "execute_result"
    }
   ],
   "source": [
    "type(profiles[0]['isActive'])#just to see if the type if the profile is"
   ]
  },
  {
   "cell_type": "code",
   "execution_count": 27,
   "id": "1dd5be47",
   "metadata": {},
   "outputs": [
    {
     "data": {
      "text/plain": [
       "9"
      ]
     },
     "execution_count": 27,
     "metadata": {},
     "output_type": "execute_result"
    }
   ],
   "source": [
    "active_users = [profile for profile in profiles if profile['isActive']]\n",
    "len(active_users)"
   ]
  },
  {
   "cell_type": "code",
   "execution_count": null,
   "id": "2c26d9f6",
   "metadata": {},
   "outputs": [],
   "source": []
  },
  {
   "cell_type": "markdown",
   "id": "e8072033",
   "metadata": {},
   "source": [
    "Number of inactive users"
   ]
  },
  {
   "cell_type": "code",
   "execution_count": 23,
   "id": "a7912862",
   "metadata": {},
   "outputs": [
    {
     "data": {
      "text/plain": [
       "10"
      ]
     },
     "execution_count": 23,
     "metadata": {},
     "output_type": "execute_result"
    }
   ],
   "source": [
    "inactive_users = [profile for profile in profiles if (not profile['isActive'])]\n",
    "len(inactive_users)"
   ]
  },
  {
   "cell_type": "markdown",
   "id": "1243f8f4",
   "metadata": {},
   "source": [
    "Grand total of balances for all users"
   ]
  },
  {
   "cell_type": "code",
   "execution_count": 29,
   "id": "eaf1ea73",
   "metadata": {},
   "outputs": [
    {
     "name": "stdout",
     "output_type": "stream",
     "text": [
      "52667.02\n"
     ]
    }
   ],
   "source": [
    "total_balance = 0\n",
    "\n",
    "for profile in profiles:\n",
    "    total_balance += profile['balance']\n",
    "    \n",
    "print(total_balance)"
   ]
  },
  {
   "cell_type": "markdown",
   "id": "36ad71ed",
   "metadata": {},
   "source": [
    "Average balance per user\n"
   ]
  },
  {
   "cell_type": "code",
   "execution_count": 39,
   "id": "d5cbf73e",
   "metadata": {},
   "outputs": [
    {
     "name": "stdout",
     "output_type": "stream",
     "text": [
      "2771.9484210526316\n"
     ]
    }
   ],
   "source": [
    "average_balance = total_balance/total_num_users\n",
    "print(average_balance)"
   ]
  },
  {
   "cell_type": "markdown",
   "id": "c564463b",
   "metadata": {},
   "source": [
    "User with the lowest balance"
   ]
  },
  {
   "cell_type": "code",
   "execution_count": 40,
   "id": "cf626f6e",
   "metadata": {},
   "outputs": [],
   "source": [
    "user_lowest_balance = min(profiles, key=lambda profile: profile[\"balance\"])"
   ]
  },
  {
   "cell_type": "code",
   "execution_count": 43,
   "id": "34d7f009",
   "metadata": {},
   "outputs": [
    {
     "data": {
      "text/plain": [
       "{'_id': '54e23c3e0fd8074c2ca52667',\n",
       " 'index': 6,\n",
       " 'guid': 'af8d9a03-fde9-4039-b20c-c4708d4cfc3c',\n",
       " 'isActive': False,\n",
       " 'balance': 1214.1,\n",
       " 'picture': 'http://placehold.it/32x32',\n",
       " 'age': 35,\n",
       " 'eyeColor': 'green',\n",
       " 'name': 'Avery Flynn',\n",
       " 'gender': 'male',\n",
       " 'company': 'TERSANKI',\n",
       " 'email': 'averyflynn@tersanki.com',\n",
       " 'phone': '+1 (966) 404-2471',\n",
       " 'address': '569 Oakland Place, Beyerville, Puerto Rico, 2395',\n",
       " 'about': 'Minim consequat anim ad et tempor et pariatur cillum ut. Ea Lorem consectetur sunt aliquip ea minim minim id dolore incididunt qui magna. Magna velit labore dolore voluptate ut aliquip esse qui est ipsum cupidatat duis enim. Sunt esse eiusmod cupidatat duis quis sunt anim dolore adipisicing enim dolore aliqua mollit. Commodo sit ad eiusmod reprehenderit.\\r\\n',\n",
       " 'registered': '2014-04-13T10:25:03 +05:00',\n",
       " 'latitude': -89.879409,\n",
       " 'longitude': 143.441709,\n",
       " 'tags': ['quis', 'esse', 'Lorem', 'minim', 'nostrud', 'voluptate', 'laborum'],\n",
       " 'friends': [{'id': 0, 'name': 'Ball Henson'},\n",
       "  {'id': 1, 'name': 'Dalton Mccoy'},\n",
       "  {'id': 2, 'name': 'Carolina Sharp'}],\n",
       " 'greeting': 'Hello, Avery Flynn! You have 13 unread messages.',\n",
       " 'favoriteFruit': 'banana'}"
      ]
     },
     "execution_count": 43,
     "metadata": {},
     "output_type": "execute_result"
    }
   ],
   "source": [
    "user_lowest_balance"
   ]
  },
  {
   "cell_type": "markdown",
   "id": "e345243b",
   "metadata": {},
   "source": [
    "User with the highest balance\n"
   ]
  },
  {
   "cell_type": "code",
   "execution_count": 41,
   "id": "5d174e69",
   "metadata": {},
   "outputs": [],
   "source": [
    "user_highest_balance = max(profiles, key=lambda profile: profile[\"balance\"])\n"
   ]
  },
  {
   "cell_type": "code",
   "execution_count": 42,
   "id": "7246694e",
   "metadata": {},
   "outputs": [
    {
     "data": {
      "text/plain": [
       "{'_id': '54e23c3e54e4094147a3b1da',\n",
       " 'index': 3,\n",
       " 'guid': '69eb3454-8acc-46f1-a636-c6df00dfb542',\n",
       " 'isActive': False,\n",
       " 'balance': 3919.64,\n",
       " 'picture': 'http://placehold.it/32x32',\n",
       " 'age': 20,\n",
       " 'eyeColor': 'green',\n",
       " 'name': 'Fay Hammond',\n",
       " 'gender': 'female',\n",
       " 'company': 'INRT',\n",
       " 'email': 'fayhammond@inrt.com',\n",
       " 'phone': '+1 (922) 429-2592',\n",
       " 'address': '518 Randolph Street, Whitestone, Arizona, 8189',\n",
       " 'about': 'Aliqua sunt exercitation quis cupidatat fugiat nulla laboris occaecat ut reprehenderit qui incididunt. Amet excepteur qui amet mollit sint enim velit est dolor eu. Velit labore ea aute ipsum consequat culpa cupidatat excepteur aliqua. Sit commodo id est deserunt commodo. Labore sit deserunt enim in dolore incididunt. Officia qui est veniam cillum consequat minim duis Lorem esse magna culpa cupidatat cupidatat enim. Amet eiusmod elit qui reprehenderit commodo quis.\\r\\n',\n",
       " 'registered': '2015-01-30T08:05:38 +06:00',\n",
       " 'latitude': 33.825844,\n",
       " 'longitude': -65.969538,\n",
       " 'tags': ['aliqua', 'esse', 'sint', 'pariatur', 'commodo', 'do', 'anim'],\n",
       " 'friends': [{'id': 0, 'name': 'Dudley Booker'},\n",
       "  {'id': 1, 'name': 'Esmeralda Tyler'},\n",
       "  {'id': 2, 'name': 'Rosa Hampton'}],\n",
       " 'greeting': 'Hello, Fay Hammond! You have 10 unread messages.',\n",
       " 'favoriteFruit': 'banana'}"
      ]
     },
     "execution_count": 42,
     "metadata": {},
     "output_type": "execute_result"
    }
   ],
   "source": [
    "user_highest_balance"
   ]
  },
  {
   "cell_type": "markdown",
   "id": "ab566549",
   "metadata": {},
   "source": [
    "Most common favorite fruit"
   ]
  },
  {
   "cell_type": "code",
   "execution_count": 44,
   "id": "9c4175e5",
   "metadata": {},
   "outputs": [
    {
     "data": {
      "text/plain": [
       "['strawberry',\n",
       " 'apple',\n",
       " 'banana',\n",
       " 'banana',\n",
       " 'apple',\n",
       " 'apple',\n",
       " 'banana',\n",
       " 'strawberry',\n",
       " 'strawberry',\n",
       " 'banana',\n",
       " 'strawberry',\n",
       " 'strawberry',\n",
       " 'apple',\n",
       " 'strawberry',\n",
       " 'strawberry',\n",
       " 'banana',\n",
       " 'strawberry',\n",
       " 'banana',\n",
       " 'strawberry']"
      ]
     },
     "execution_count": 44,
     "metadata": {},
     "output_type": "execute_result"
    }
   ],
   "source": [
    "fruits = []\n",
    "for profile in profiles:\n",
    "    fruits.append(profile[\"favoriteFruit\"])\n",
    "    \n",
    "fruits"
   ]
  },
  {
   "cell_type": "markdown",
   "id": "1ce502d6",
   "metadata": {},
   "source": [
    "Least most common favorite fruit\n"
   ]
  },
  {
   "cell_type": "code",
   "execution_count": 45,
   "id": "4772376d",
   "metadata": {},
   "outputs": [
    {
     "data": {
      "text/plain": [
       "'apple'"
      ]
     },
     "execution_count": 45,
     "metadata": {},
     "output_type": "execute_result"
    }
   ],
   "source": [
    "min(fruits, key=fruits.count)"
   ]
  },
  {
   "cell_type": "markdown",
   "id": "37e66edb",
   "metadata": {},
   "source": [
    "Total number of unread messages for all users"
   ]
  },
  {
   "cell_type": "code",
   "execution_count": 47,
   "id": "f8828812",
   "metadata": {},
   "outputs": [],
   "source": [
    "greeting = 'Hello, Hebert Estes! You have 423414 unread messages.'\n"
   ]
  },
  {
   "cell_type": "code",
   "execution_count": 48,
   "id": "6a26aa61",
   "metadata": {},
   "outputs": [
    {
     "data": {
      "text/plain": [
       "423414"
      ]
     },
     "execution_count": 48,
     "metadata": {},
     "output_type": "execute_result"
    }
   ],
   "source": [
    "count_unread = ''\n",
    "\n",
    "for character in greeting:\n",
    "    if character.isdigit():\n",
    "        count_unread += character\n",
    "        \n",
    "int(count_unread)"
   ]
  },
  {
   "cell_type": "code",
   "execution_count": 50,
   "id": "fe8599f7",
   "metadata": {},
   "outputs": [],
   "source": [
    "def count_unread(greeting):\n",
    "    output = ''\n",
    "    for character in greeting:\n",
    "        if character.isdigit():\n",
    "            output += character\n",
    "    return int(output)"
   ]
  },
  {
   "cell_type": "code",
   "execution_count": 51,
   "id": "a013bea5",
   "metadata": {},
   "outputs": [
    {
     "name": "stdout",
     "output_type": "stream",
     "text": [
      "210\n"
     ]
    }
   ],
   "source": [
    "total_num_unread = 0\n",
    "\n",
    "for profile in profiles:\n",
    "    count = count_unread(profile['greeting'])\n",
    "    total_num_unread += count\n",
    "    \n",
    "print(total_num_unread)"
   ]
  },
  {
   "cell_type": "code",
   "execution_count": null,
   "id": "b25a3396",
   "metadata": {},
   "outputs": [],
   "source": []
  }
 ],
 "metadata": {
  "kernelspec": {
   "display_name": "Python 3 (ipykernel)",
   "language": "python",
   "name": "python3"
  },
  "language_info": {
   "codemirror_mode": {
    "name": "ipython",
    "version": 3
   },
   "file_extension": ".py",
   "mimetype": "text/x-python",
   "name": "python",
   "nbconvert_exporter": "python",
   "pygments_lexer": "ipython3",
   "version": "3.9.12"
  }
 },
 "nbformat": 4,
 "nbformat_minor": 5
}
