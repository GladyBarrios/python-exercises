{
 "cells": [
  {
   "cell_type": "code",
   "execution_count": 9,
   "id": "967dece4",
   "metadata": {},
   "outputs": [
    {
     "name": "stdout",
     "output_type": "stream",
     "text": [
      "I like coffee!\n",
      "Coffee is the best!\n"
     ]
    }
   ],
   "source": [
    "i_like_coffee = '23'\n",
    "\n",
    "if i_like_coffee:\n",
    "    print('I like coffee!')\n",
    "    print('Coffee is the best!')\n",
    "\n",
    "    \n",
    "    \n",
    "    "
   ]
  },
  {
   "cell_type": "code",
   "execution_count": 10,
   "id": "3db50a9e",
   "metadata": {},
   "outputs": [
    {
     "name": "stdout",
     "output_type": "stream",
     "text": [
      "Looks like a nice, sunny day!\n"
     ]
    }
   ],
   "source": [
    "it_is_raining = False\n",
    "\n",
    "if it_is_raining:\n",
    "    print('Better bring an umbrella!')\n",
    "else:\n",
    "    print('Looks like a nice, sunny day!')\n"
   ]
  },
  {
   "cell_type": "code",
   "execution_count": 14,
   "id": "3bed0673",
   "metadata": {},
   "outputs": [
    {
     "name": "stdout",
     "output_type": "stream",
     "text": [
      "How about some tea then?\n"
     ]
    }
   ],
   "source": [
    "coffee_preference = '42'\n",
    "\n",
    "if coffee_preference == 'dark':\n",
    "    print('I love a good dark roast!')\n",
    "elif coffee_preference == 'medium':\n",
    "    print('Middle of the road, huh?')\n",
    "elif coffee_preference == 'light':\n",
    "    print('Light roast has the most caffeine!')\n",
    "else:\n",
    "    print('How about some tea then?')\n"
   ]
  },
  {
   "cell_type": "code",
   "execution_count": 15,
   "id": "953eea3d",
   "metadata": {},
   "outputs": [
    {
     "name": "stdout",
     "output_type": "stream",
     "text": [
      "1\n",
      "2\n",
      "3\n"
     ]
    }
   ],
   "source": [
    "for number in range(1, 4):\n",
    "    print(number)\n"
   ]
  },
  {
   "cell_type": "code",
   "execution_count": 16,
   "id": "cbf89763",
   "metadata": {},
   "outputs": [
    {
     "name": "stdout",
     "output_type": "stream",
     "text": [
      "a\n",
      "b\n",
      "c\n",
      "d\n",
      "e\n"
     ]
    }
   ],
   "source": [
    "for letter in 'abcde':\n",
    "    print(letter)\n"
   ]
  },
  {
   "cell_type": "code",
   "execution_count": 17,
   "id": "6fdf939d",
   "metadata": {},
   "outputs": [
    {
     "name": "stdout",
     "output_type": "stream",
     "text": [
      "bash is a nice programming language\n",
      "python is a nice programming language\n",
      "R is a nice programming language\n",
      "clojure is a nice programming language\n"
     ]
    }
   ],
   "source": [
    "languages = ['bash', 'python', 'R', 'clojure']\n",
    "\n",
    "for programming_language in languages:\n",
    "    print(f'{programming_language} is a nice programming language')\n"
   ]
  },
  {
   "cell_type": "code",
   "execution_count": 18,
   "id": "08742aa4",
   "metadata": {},
   "outputs": [
    {
     "name": "stdout",
     "output_type": "stream",
     "text": [
      "bash is a nice programming language\n",
      "python is my favorite!\n",
      "R is a nice programming language\n",
      "clojure is a nice programming language\n"
     ]
    }
   ],
   "source": [
    "for programming_language in languages:\n",
    "    if programming_language == 'python':\n",
    "        print(f'{programming_language} is my favorite!')\n",
    "    else:\n",
    "        print(f'{programming_language} is a nice programming language')\n"
   ]
  },
  {
   "cell_type": "code",
   "execution_count": 19,
   "id": "b2383ef9",
   "metadata": {},
   "outputs": [
    {
     "name": "stdout",
     "output_type": "stream",
     "text": [
      "5\n",
      "6\n",
      "7\n",
      "8\n",
      "9\n",
      "10\n"
     ]
    }
   ],
   "source": [
    "i = 5\n",
    "while i <= 10:\n",
    "    print(i)\n",
    "    i += 1\n"
   ]
  },
  {
   "cell_type": "code",
   "execution_count": 20,
   "id": "f6a31746",
   "metadata": {},
   "outputs": [
    {
     "name": "stdout",
     "output_type": "stream",
     "text": [
      "0\n",
      "1\n",
      "2\n",
      "3\n",
      "4\n",
      "5\n",
      "6\n",
      "7\n",
      "8\n",
      "9\n",
      "10\n",
      "11\n"
     ]
    }
   ],
   "source": [
    "for n in range(100_000):\n",
    "    print(n)\n",
    "    if n > 10:\n",
    "        break\n"
   ]
  },
  {
   "cell_type": "code",
   "execution_count": 21,
   "id": "f4a93881",
   "metadata": {},
   "outputs": [
    {
     "name": "stdout",
     "output_type": "stream",
     "text": [
      "Here is an odd number: 1\n",
      "Here is an odd number: 3\n",
      "Here is an odd number: 5\n",
      "Here is an odd number: 7\n",
      "Here is an odd number: 9\n"
     ]
    }
   ],
   "source": [
    "for n in range(10):\n",
    "    if n % 2 == 0:\n",
    "        continue\n",
    "    print(f'Here is an odd number: {n}')\n"
   ]
  },
  {
   "cell_type": "code",
   "execution_count": 22,
   "id": "6aae232f",
   "metadata": {},
   "outputs": [
    {
     "name": "stdout",
     "output_type": "stream",
     "text": [
      "age average: 29.00\n",
      "is_vegetarian is not numeric, skipping\n",
      "shoe size average: 8.86\n",
      "ISP is not numeric, skipping\n",
      "BMI average: 23.90\n"
     ]
    }
   ],
   "source": [
    "dataset = [{'name': 'age', 'type': 'int', 'data': [20, 25, 43, 11, 15, 53, 36]},\n",
    "           {'name': 'is_vegetarian', 'type': 'boolean', 'data': [False, True, False, False, True, False, False]},\n",
    "           {'name': 'shoe size', 'type': 'int', 'data': [8, 11, 7, 10, 7, 9, 10]},\n",
    "           {'name': 'ISP', 'type': 'categorical', 'data': ['AT&T', 'Spectrum', 'Spectrum', 'Spectrum', 'AT&T', 'Spectrum', 'AT&T']},\n",
    "           {'name': 'BMI', 'type': 'float', 'data': [29.9, 20.4, 23.3, 21.7, 22.2, 22.8, 27.0]}]\n",
    "\n",
    "# print the means for the numeric data\n",
    "for feature in dataset:\n",
    "    if feature['type'] == 'categorical' or feature['type'] == 'boolean':\n",
    "        print(f\"{feature['name']} is not numeric, skipping\")\n",
    "        continue\n",
    "    avg = sum(feature['data']) / len(feature['data'])\n",
    "    print(f\"{feature['name']} average: {avg:.2f}\") # the :.2f formats the decimal to 2 places.\n"
   ]
  },
  {
   "cell_type": "markdown",
   "id": "95df8ccc",
   "metadata": {},
   "source": [
    "practice excersises "
   ]
  },
  {
   "cell_type": "markdown",
   "id": "800f404e",
   "metadata": {},
   "source": [
    "Conditional Basics"
   ]
  },
  {
   "cell_type": "markdown",
   "id": "77b295d2",
   "metadata": {},
   "source": [
    "prompt the user for a day of the week, print out whether the day is Monday or not"
   ]
  },
  {
   "cell_type": "code",
   "execution_count": 3,
   "id": "b0ebaf6c",
   "metadata": {},
   "outputs": [
    {
     "name": "stdout",
     "output_type": "stream",
     "text": [
      "please enter the day of the week?: mon\n",
      "Yay!  Its Monday!\n"
     ]
    }
   ],
   "source": [
    "user_imput = input('please enter the day of the week?: ')\n",
    "    \n",
    "if user_imput.lower() in ['Monday', 'mon']:\n",
    "    print('Yay!  Its Monday!')\n",
    "else:\n",
    "    print('Have a good day!')\n",
    "    \n"
   ]
  },
  {
   "cell_type": "markdown",
   "id": "47f36773",
   "metadata": {},
   "source": [
    "prompt the user for a day of the week, print out whether the day is a weekday or a weekend"
   ]
  },
  {
   "cell_type": "code",
   "execution_count": 10,
   "id": "d2c83ed4",
   "metadata": {},
   "outputs": [
    {
     "name": "stdout",
     "output_type": "stream",
     "text": [
      "what day is it today: Monday\n",
      "Today is a Weekday\n"
     ]
    }
   ],
   "source": [
    "user = input('what day is it today: ')\n",
    "\n",
    "if user in ['Monday', 'Tuesday', 'Wed', 'Thurs', 'Fri']:\n",
    "    print('Today is a Weekday')\n",
    "else:\n",
    "    print('Its the weekend!')\n",
    " \n",
    "\n",
    "\n"
   ]
  },
  {
   "cell_type": "code",
   "execution_count": 8,
   "id": "f52a07b0",
   "metadata": {},
   "outputs": [
    {
     "name": "stdout",
     "output_type": "stream",
     "text": [
      "Please enter the day of the week: monday\n",
      "Today is a weekday\n"
     ]
    }
   ],
   "source": [
    "day = input('Please enter the day of the week: ')\n",
    "\n",
    "# Make sure input is valid\n",
    "while day.lower() not in ['sunday', 'monday', 'tuesday', 'wednesday', 'thursday', 'friday', 'saturday']:\n",
    "    print('Invalid input. Please enter the full name of the day')\n",
    "    day = input('Please enter the day of the week: ')\n",
    "\n",
    "\n",
    "# figure out if input is weekday or weekend.    \n",
    "if day.lower() in ['sunday', 'saturday']:\n",
    "    print('Today is a weekend')\n",
    "else:\n",
    "    print('Today is a weekday')"
   ]
  },
  {
   "cell_type": "code",
   "execution_count": 11,
   "id": "882a8be4",
   "metadata": {},
   "outputs": [
    {
     "data": {
      "text/plain": [
       "1064.0"
      ]
     },
     "execution_count": 11,
     "metadata": {},
     "output_type": "execute_result"
    }
   ],
   "source": [
    "weekly_hours_worked = 44\n",
    "\n",
    "hourly = 20\n",
    "\n",
    "overtime = weekly_hours_worked *1.5\n",
    "\n",
    "\n",
    "if weekly_hours_worked < 40: \n",
    "       total_pay = weekly_hours_worked * hourly\n",
    "else:\n",
    "    regular_pay = 40 * hourly\n",
    "    overtime_pay = (weekly_hours_worked - 40) * overtime\n",
    "    total_pay = regular_pay + overtime_pay\n",
    "\n",
    "total_pay\n",
    "\n",
    "\n",
    "\n",
    "\n"
   ]
  },
  {
   "cell_type": "markdown",
   "id": "22fff217",
   "metadata": {},
   "source": [
    "Loop Basics"
   ]
  },
  {
   "cell_type": "markdown",
   "id": "8dfd7901",
   "metadata": {},
   "source": [
    "While"
   ]
  },
  {
   "cell_type": "code",
   "execution_count": 62,
   "id": "9bb612ca",
   "metadata": {},
   "outputs": [
    {
     "name": "stdout",
     "output_type": "stream",
     "text": [
      "5\n",
      "6\n",
      "7\n",
      "8\n",
      "9\n",
      "10\n",
      "11\n",
      "12\n",
      "13\n",
      "14\n",
      "15\n"
     ]
    }
   ],
   "source": [
    "i = 5\n",
    "while i <= 15:\n",
    "    print(i)\n",
    "    i += 1\n",
    "\n"
   ]
  },
  {
   "cell_type": "code",
   "execution_count": 1,
   "id": "e5dcc810",
   "metadata": {},
   "outputs": [
    {
     "name": "stdout",
     "output_type": "stream",
     "text": [
      "0\n",
      "2\n",
      "4\n",
      "6\n",
      "8\n",
      "10\n",
      "12\n",
      "14\n",
      "16\n",
      "18\n",
      "20\n",
      "22\n",
      "24\n",
      "26\n",
      "28\n",
      "30\n",
      "32\n",
      "34\n",
      "36\n",
      "38\n",
      "40\n",
      "42\n",
      "44\n",
      "46\n",
      "48\n",
      "50\n",
      "52\n",
      "54\n",
      "56\n",
      "58\n",
      "60\n",
      "62\n",
      "64\n",
      "66\n",
      "68\n",
      "70\n",
      "72\n",
      "74\n",
      "76\n",
      "78\n",
      "80\n",
      "82\n",
      "84\n",
      "86\n",
      "88\n",
      "90\n",
      "92\n",
      "94\n",
      "96\n",
      "98\n",
      "100\n"
     ]
    }
   ],
   "source": [
    "i = 0\n",
    "while i <= 101:\n",
    "    print(i)\n",
    "    i += 2"
   ]
  },
  {
   "cell_type": "code",
   "execution_count": 14,
   "id": "99a42816",
   "metadata": {},
   "outputs": [
    {
     "name": "stdout",
     "output_type": "stream",
     "text": [
      "100\n",
      "95\n",
      "90\n",
      "85\n",
      "80\n",
      "75\n",
      "70\n",
      "65\n",
      "60\n",
      "55\n",
      "50\n",
      "45\n",
      "40\n",
      "35\n",
      "30\n",
      "25\n",
      "20\n",
      "15\n",
      "10\n",
      "5\n",
      "0\n",
      "-5\n",
      "-10\n"
     ]
    }
   ],
   "source": [
    "i = 100\n",
    "while i >= -10:\n",
    "    print(i)\n",
    "    i = i - 5\n",
    "    \n"
   ]
  },
  {
   "cell_type": "code",
   "execution_count": 12,
   "id": "c25be618",
   "metadata": {},
   "outputs": [
    {
     "name": "stdout",
     "output_type": "stream",
     "text": [
      "2\n",
      "4\n",
      "16\n",
      "256\n",
      "65536\n"
     ]
    }
   ],
   "source": [
    "i = 2\n",
    "while i < 1000000:\n",
    "    print(i)\n",
    "    i = i**2\n",
    "\n",
    "\n",
    "    "
   ]
  },
  {
   "cell_type": "code",
   "execution_count": 11,
   "id": "ba68e090",
   "metadata": {},
   "outputs": [
    {
     "name": "stdout",
     "output_type": "stream",
     "text": [
      "100\n",
      "95\n",
      "90\n",
      "85\n",
      "80\n",
      "75\n",
      "70\n",
      "65\n",
      "60\n",
      "55\n",
      "50\n",
      "45\n",
      "40\n",
      "35\n",
      "30\n",
      "25\n",
      "20\n",
      "15\n",
      "10\n"
     ]
    }
   ],
   "source": [
    "i = 100\n",
    "while i >= 5:\n",
    "    print(i)\n",
    "    i = i - 5"
   ]
  },
  {
   "cell_type": "code",
   "execution_count": 16,
   "id": "a01ae841",
   "metadata": {},
   "outputs": [
    {
     "name": "stdout",
     "output_type": "stream",
     "text": [
      "1\n",
      "2\n",
      "3\n",
      "4\n",
      "5\n",
      "6\n",
      "7\n",
      "8\n",
      "9\n",
      "10\n",
      "11\n",
      "12\n",
      "13\n",
      "14\n",
      "15\n",
      "16\n",
      "17\n",
      "18\n",
      "19\n",
      "20\n",
      "21\n",
      "22\n",
      "23\n",
      "24\n",
      "25\n",
      "26\n",
      "27\n",
      "28\n",
      "29\n",
      "30\n",
      "31\n",
      "32\n",
      "33\n",
      "34\n",
      "35\n",
      "36\n",
      "37\n",
      "38\n",
      "39\n",
      "40\n",
      "41\n",
      "42\n",
      "43\n",
      "44\n",
      "45\n",
      "46\n",
      "47\n",
      "48\n",
      "49\n",
      "50\n",
      "51\n",
      "52\n",
      "53\n",
      "54\n",
      "55\n",
      "56\n",
      "57\n",
      "58\n",
      "59\n",
      "60\n",
      "61\n",
      "62\n",
      "63\n",
      "64\n",
      "65\n",
      "66\n",
      "67\n",
      "68\n",
      "69\n",
      "70\n",
      "71\n",
      "72\n",
      "73\n",
      "74\n",
      "75\n",
      "76\n",
      "77\n",
      "78\n",
      "79\n",
      "80\n",
      "81\n",
      "82\n",
      "83\n",
      "84\n",
      "85\n",
      "86\n",
      "87\n",
      "88\n",
      "89\n",
      "90\n",
      "91\n",
      "92\n",
      "93\n",
      "94\n",
      "95\n",
      "96\n",
      "97\n",
      "98\n",
      "99\n",
      "100\n"
     ]
    }
   ],
   "source": [
    "i = 1\n",
    "while i <= 100:\n",
    "    print(i)\n",
    "    i += 1\n",
    "    \n",
    "    "
   ]
  },
  {
   "cell_type": "markdown",
   "id": "4ee66954",
   "metadata": {},
   "source": [
    "For Loops"
   ]
  },
  {
   "cell_type": "code",
   "execution_count": 16,
   "id": "b5251f93",
   "metadata": {},
   "outputs": [
    {
     "name": "stdout",
     "output_type": "stream",
     "text": [
      "number?: 2\n",
      "2 x 1 = 2\n",
      "2 x 2 = 4\n",
      "2 x 3 = 6\n",
      "2 x 4 = 8\n",
      "2 x 5 = 10\n",
      "2 x 6 = 12\n",
      "2 x 7 = 14\n",
      "2 x 8 = 16\n",
      "2 x 9 = 18\n"
     ]
    }
   ],
   "source": [
    "user_imput = int(input('number?: '))\n",
    "\n",
    "number = range(1,10)\n",
    "for x in number:\n",
    "    result = user_imput*x\n",
    "    print(user_imput,'x',x,'=',result)\n",
    "\n",
    "\n",
    "\n",
    "\n",
    "\n",
    "\n"
   ]
  },
  {
   "cell_type": "code",
   "execution_count": 19,
   "id": "ae128491",
   "metadata": {},
   "outputs": [
    {
     "name": "stdout",
     "output_type": "stream",
     "text": [
      "\n",
      "1\n",
      "22\n",
      "333\n",
      "4444\n",
      "55555\n",
      "666666\n",
      "7777777\n",
      "88888888\n",
      "999999999\n"
     ]
    }
   ],
   "source": [
    "for i in range(10):\n",
    "    print(str(i) * i)\n",
    "\n"
   ]
  },
  {
   "cell_type": "markdown",
   "id": "22e5c8b6",
   "metadata": {},
   "source": [
    "break and continue\n",
    "\n",
    "Prompt the user for an odd number between 1 and 50. \n",
    "\n",
    "Use a loop and a break statement to continue \n",
    "\n",
    "\n",
    "prompting the user if they enter invalid input. \n",
    "\n",
    "(Hint: use the isdigit method on strings to determine this).\n",
    "\n",
    "Use a loop and the continue statement to output all the odd numbers between 1 and 50,\n",
    "\n",
    "except for the number the user entered.\n",
    "\n",
    "Your output should look like this"
   ]
  },
  {
   "cell_type": "code",
   "execution_count": 4,
   "id": "07737a4c",
   "metadata": {},
   "outputs": [
    {
     "name": "stdout",
     "output_type": "stream",
     "text": [
      "please enter odd number btwn 1 and 50: 8\n",
      "Invalid Input\n",
      "Please enter a odd number between 1 and 50: 5\n",
      " The number to skip is  5\n",
      "Here is an odd number 1\n",
      "Here is an odd number 3\n",
      "Yikes, skipping this number 5\n",
      "Here is an odd number 7\n",
      "Here is an odd number 9\n",
      "Here is an odd number 11\n",
      "Here is an odd number 13\n",
      "Here is an odd number 15\n",
      "Here is an odd number 17\n",
      "Here is an odd number 19\n",
      "Here is an odd number 21\n",
      "Here is an odd number 23\n",
      "Here is an odd number 25\n",
      "Here is an odd number 27\n",
      "Here is an odd number 29\n",
      "Here is an odd number 31\n",
      "Here is an odd number 33\n",
      "Here is an odd number 35\n",
      "Here is an odd number 37\n",
      "Here is an odd number 39\n",
      "Here is an odd number 41\n",
      "Here is an odd number 43\n",
      "Here is an odd number 45\n",
      "Here is an odd number 47\n",
      "Here is an odd number 49\n"
     ]
    }
   ],
   "source": [
    "user_imput = input('please enter odd number btwn 1 and 50: ')\n",
    "\n",
    "while True:#this is using the 'while' statement so \"while TRUE\"\n",
    "    if (user_imput.isdigit() ==  False # if then starts to list all the things that are wrong\n",
    "       or int(user_imput) > 50 # he also adds the 'int statement' to make it an integer\n",
    "       or int(user_imput) < 1\n",
    "       or int(user_imput) % 2 == 0): # this is the closed parenthesitherefore endint the statement\n",
    "        print('Invalid Input')# so im gessing if all of this is false then it will print this\n",
    "        user_imput = input('Please enter a odd number between 1 and 50: ')\n",
    "    else:\n",
    "        break\n",
    "#then it will make the person enter the number agaain\n",
    "\n",
    "\n",
    "\n",
    "user_imput = int(user_imput)\n",
    "# this is to convert the string to integer\n",
    "print(' The number to skip is ', user_imput)\n",
    "\n",
    "for i in range(1, 50):\n",
    "    if i % 2 == 0:#this means equal to the number 2\n",
    "        continue#then just continue it \n",
    "    elif i == user_imput:\n",
    "        print('Yikes, skipping this number', i)\n",
    "    else:\n",
    "        print('Here is an odd number', i)   \n",
    "\n",
    "\n"
   ]
  },
  {
   "cell_type": "code",
   "execution_count": 16,
   "id": "0fa93683",
   "metadata": {},
   "outputs": [
    {
     "name": "stdout",
     "output_type": "stream",
     "text": [
      "please enter positive number 4\n",
      "0\n",
      "1\n",
      "2\n",
      "3\n",
      "4\n"
     ]
    }
   ],
   "source": [
    "user = input('please enter positive number ')\n",
    "\n",
    "while True:\n",
    "    if (user.isdigit() == False\n",
    "       or int(user) < 0):\n",
    "        print('invalid input')\n",
    "        user = input('positive number !!!: ')\n",
    "    else: \n",
    "        break\n",
    "        \n",
    "\n",
    "for x in range(0, int(user) + 1):\n",
    "    print(x)\n",
    " \n",
    "    "
   ]
  },
  {
   "cell_type": "code",
   "execution_count": null,
   "id": "6f19d96b",
   "metadata": {},
   "outputs": [],
   "source": []
  },
  {
   "cell_type": "code",
   "execution_count": 21,
   "id": "a82c1c29",
   "metadata": {},
   "outputs": [
    {
     "name": "stdout",
     "output_type": "stream",
     "text": [
      "2 Here is an odd number\n",
      "4 Here is an odd number\n",
      "6 Here is an odd number\n",
      "8 Here is an odd number\n",
      "10 Here is an odd number\n"
     ]
    }
   ],
   "source": [
    "for num in range(1, 11):\n",
    "    if num % 2 == 1:\n",
    "        continue\n",
    "    print(num, 'Here is an odd number') "
   ]
  },
  {
   "cell_type": "code",
   "execution_count": null,
   "id": "be79f33c",
   "metadata": {},
   "outputs": [],
   "source": []
  },
  {
   "cell_type": "code",
   "execution_count": null,
   "id": "d58b9655",
   "metadata": {},
   "outputs": [],
   "source": []
  },
  {
   "cell_type": "markdown",
   "id": "75aef5bc",
   "metadata": {},
   "source": [
    "Fizzbuzz\n",
    "\n",
    "One of the most common interview questions for entry-level programmers is the FizzBuzz test. Developed by Imran Ghory, the test is designed to test basic looping and conditional logic skills."
   ]
  },
  {
   "cell_type": "code",
   "execution_count": null,
   "id": "78913395",
   "metadata": {},
   "outputs": [],
   "source": []
  },
  {
   "cell_type": "code",
   "execution_count": 32,
   "id": "9a397d4b",
   "metadata": {},
   "outputs": [
    {
     "name": "stdout",
     "output_type": "stream",
     "text": [
      "Fizz\n",
      "Fizz\n",
      "Fizz\n",
      "Fizz\n",
      "Fizz\n",
      "Fizz\n",
      "Fizz\n",
      "Fizz\n",
      "Fizz\n",
      "Fizz\n",
      "Fizz\n",
      "Fizz\n",
      "Fizz\n",
      "Fizz\n",
      "Fizz\n",
      "Fizz\n",
      "Fizz\n",
      "Fizz\n",
      "Fizz\n",
      "Fizz\n",
      "Fizz\n",
      "Fizz\n",
      "Fizz\n",
      "Fizz\n",
      "Fizz\n",
      "Fizz\n",
      "Fizz\n",
      "Fizz\n",
      "Fizz\n",
      "Fizz\n",
      "Fizz\n",
      "Fizz\n",
      "Fizz\n",
      "Fizz\n"
     ]
    }
   ],
   "source": [
    "for n in range(100):\n",
    "    if n % 3 == 0:\n",
    "        print('Fizz')\n"
   ]
  },
  {
   "cell_type": "code",
   "execution_count": 26,
   "id": "fb5f7d9c",
   "metadata": {},
   "outputs": [
    {
     "name": "stdout",
     "output_type": "stream",
     "text": [
      "buzz\n",
      "buzz\n",
      "buzz\n",
      "buzz\n",
      "buzz\n",
      "buzz\n",
      "buzz\n",
      "buzz\n",
      "buzz\n",
      "buzz\n",
      "buzz\n",
      "buzz\n",
      "buzz\n",
      "buzz\n",
      "buzz\n",
      "buzz\n",
      "buzz\n",
      "buzz\n",
      "buzz\n",
      "buzz\n"
     ]
    }
   ],
   "source": [
    "for n in range(100):\n",
    "    if n % 5 == 0:\n",
    "        print('buzz')\n",
    "    "
   ]
  },
  {
   "cell_type": "code",
   "execution_count": 31,
   "id": "e92afb79",
   "metadata": {
    "scrolled": true
   },
   "outputs": [
    {
     "name": "stdout",
     "output_type": "stream",
     "text": [
      "fizbuzz\n",
      "fizbuzz\n",
      "fizbuzz\n",
      "fizbuzz\n",
      "fizbuzz\n",
      "fizbuzz\n",
      "fizbuzz\n"
     ]
    }
   ],
   "source": [
    "for n in range(100):\n",
    "    if n % 5 == 0 and n % 3 == 0:\n",
    "        print('fizbuzz')"
   ]
  },
  {
   "cell_type": "code",
   "execution_count": 17,
   "id": "9c0e7af2",
   "metadata": {},
   "outputs": [
    {
     "name": "stdout",
     "output_type": "stream",
     "text": [
      "1\n",
      "2\n",
      "fizz\n",
      "4\n",
      "buzz\n",
      "fizz\n",
      "7\n",
      "8\n",
      "fizz\n",
      "buzz\n",
      "11\n",
      "fizz\n",
      "13\n",
      "14\n",
      "fizzbuzz\n",
      "16\n",
      "17\n",
      "fizz\n",
      "19\n",
      "buzz\n",
      "fizz\n",
      "22\n",
      "23\n",
      "fizz\n",
      "buzz\n",
      "26\n",
      "fizz\n",
      "28\n",
      "29\n",
      "fizzbuzz\n",
      "31\n",
      "32\n",
      "fizz\n",
      "34\n",
      "buzz\n",
      "fizz\n",
      "37\n",
      "38\n",
      "fizz\n",
      "buzz\n",
      "41\n",
      "fizz\n",
      "43\n",
      "44\n",
      "fizzbuzz\n",
      "46\n",
      "47\n",
      "fizz\n",
      "49\n",
      "buzz\n",
      "fizz\n",
      "52\n",
      "53\n",
      "fizz\n",
      "buzz\n",
      "56\n",
      "fizz\n",
      "58\n",
      "59\n",
      "fizzbuzz\n",
      "61\n",
      "62\n",
      "fizz\n",
      "64\n",
      "buzz\n",
      "fizz\n",
      "67\n",
      "68\n",
      "fizz\n",
      "buzz\n",
      "71\n",
      "fizz\n",
      "73\n",
      "74\n",
      "fizzbuzz\n",
      "76\n",
      "77\n",
      "fizz\n",
      "79\n",
      "buzz\n",
      "fizz\n",
      "82\n",
      "83\n",
      "fizz\n",
      "buzz\n",
      "86\n",
      "fizz\n",
      "88\n",
      "89\n",
      "fizzbuzz\n",
      "91\n",
      "92\n",
      "fizz\n",
      "94\n",
      "buzz\n",
      "fizz\n",
      "97\n",
      "98\n",
      "fizz\n",
      "buzz\n"
     ]
    }
   ],
   "source": [
    "for n in range(1, 101):\n",
    "    if (n % 3 == 0) and (n % 5 == 0):\n",
    "        print('fizzbuzz')\n",
    "    elif n % 3 == 0:\n",
    "        print('fizz')\n",
    "    elif n % 5 == 0:\n",
    "        print('buzz')                   \n",
    "    else:\n",
    "        print(n)"
   ]
  },
  {
   "cell_type": "markdown",
   "id": "6e2d2d6e",
   "metadata": {},
   "source": [
    "Display a table of powers.\n",
    "\n",
    "Prompt the user to enter an integer.\n",
    "Display a table of squares and cubes from 1 to the value entered.\n",
    "Ask if the user wants to continue.\n",
    "Assume that the user will enter valid data.\n",
    "Only continue if the user agrees to."
   ]
  },
  {
   "cell_type": "code",
   "execution_count": null,
   "id": "20ede355",
   "metadata": {},
   "outputs": [],
   "source": []
  },
  {
   "cell_type": "code",
   "execution_count": 12,
   "id": "a644a9fe",
   "metadata": {},
   "outputs": [
    {
     "name": "stdout",
     "output_type": "stream",
     "text": [
      "Please enter an positive integer: 4\n",
      "Here is your table!\n",
      "number|squared|cubed\n",
      "------|-------|-----\n",
      "    1 |   1 |   1\n",
      "    2 |   4 |   8\n",
      "    3 |   9 |   27\n",
      "    4 |   16 |   64\n"
     ]
    }
   ],
   "source": [
    "num = input('Please enter an positive integer: ')\n",
    "\n",
    "print('Here is your table!')\n",
    "print('number|squared|cubed')\n",
    "print('------|-------|-----')# this creates the chart looking thing \n",
    "\n",
    "num = int(num)\n",
    "for i in range(1, num + 1): #the number + 1 means that its going up by one\n",
    "    print(f'    {i} |   {i ** 2} |   {i ** 3}')#so the range is from one to the number the user puts and plus one to the user input \n",
    "  "
   ]
  },
  {
   "cell_type": "code",
   "execution_count": null,
   "id": "5128bb7c",
   "metadata": {},
   "outputs": [],
   "source": []
  },
  {
   "cell_type": "markdown",
   "id": "bd1ef7e7",
   "metadata": {},
   "source": [
    "Convert given number grades into letter grades\n",
    "\n",
    "Convert given number grades into letter grades.\n",
    "\n",
    "Prompt the user for a numerical grade from 0 to 100.\n",
    "Display the corresponding letter grade.\n",
    "Prompt the user to continue.\n",
    "Assume that the user will enter valid integers for the grades.\n",
    "The application should only continue if the user agrees to.\n",
    "Grade Ranges:\n",
    "\n",
    "A : 100 - 88\n",
    "B : 87 - 80\n",
    "C : 79 - 67\n",
    "D : 66 - 60\n",
    "F : 59 - 0"
   ]
  },
  {
   "cell_type": "code",
   "execution_count": 18,
   "id": "4e7148fd",
   "metadata": {},
   "outputs": [
    {
     "name": "stdout",
     "output_type": "stream",
     "text": [
      "please enter grade: 34\n",
      "A\n"
     ]
    }
   ],
   "source": [
    "user_imput = input('please enter grade: ')# this is my first attempt\n",
    "\n",
    "A = range(100-88)\n",
    "\n",
    "B = range(87-80)\n",
    "\n",
    "C = range(79-67)\n",
    "\n",
    "D = range(66-60)\n",
    "\n",
    "F = range(59-0)\n",
    "\n",
    "grades = (A, B, C, D, F)\n",
    "for num in grades:\n",
    "    if num == A :\n",
    "        print('A')\n",
    "        break\n",
    "    if num == B:\n",
    "        print('B')\n",
    "        break\n",
    "    if num == C:\n",
    "        print('C')\n",
    "        break\n",
    "    if num == D:\n",
    "        print('D')\n",
    "        break\n",
    "    if num == C:\n",
    "        print('F')\n",
    "        break\n",
    "        \n",
    "    "
   ]
  },
  {
   "cell_type": "code",
   "execution_count": null,
   "id": "e42205c2",
   "metadata": {},
   "outputs": [
    {
     "name": "stdout",
     "output_type": "stream",
     "text": [
      "Please enter the numeric grade: 55\n",
      "F\n",
      "Please enter the numeric grade: 65\n",
      "D\n",
      "Please enter the numeric grade: 76\n",
      "C\n",
      "Please enter the numeric grade: 87\n",
      "B\n",
      "Please enter the numeric grade: 99\n",
      "A\n"
     ]
    }
   ],
   "source": [
    "while True:# the common 'while' statemtn i forget about :]\n",
    "    num = input('Please enter the numeric grade: ')\n",
    "    num = int(num)\n",
    "    if num in range(88, 101):\n",
    "        print('A')\n",
    "    elif num >= 80:\n",
    "        print('B')\n",
    "    elif num >= 67:\n",
    "        print('C')\n",
    "    elif num >= 60:\n",
    "        print('D')\n",
    "    else:\n",
    "        print('F')\n",
    "        \n"
   ]
  },
  {
   "cell_type": "code",
   "execution_count": 14,
   "id": "e7c27a38",
   "metadata": {},
   "outputs": [
    {
     "name": "stdout",
     "output_type": "stream",
     "text": [
      "Please enter the numeric grade: 56\n",
      "F\n",
      "Do you want to continue? Please enter yes or y to continue:y\n",
      "F\n",
      "Do you want to continue? Please enter yes or y to continue:n\n"
     ]
    }
   ],
   "source": [
    " num = input('Please enter the numeric grade: ')\n",
    "# just checking to see if i can removethis and put it on the outside \n",
    "# i think i like it better this way \n",
    "# less confusing\n",
    "while True:\n",
    "    num = int(num)# so this is the way to convert this into an int\n",
    "    if num in range(88, 101):\n",
    "        print('A')\n",
    "    elif num >= 80:\n",
    "        print('B')\n",
    "    elif num >= 67:\n",
    "        print('C')\n",
    "    elif num >= 60:\n",
    "        print('D')\n",
    "    else:\n",
    "        print('F')\n",
    "        \n",
    "    choice = input('Do you want to continue? Please enter yes or y to continue:')\n",
    "    if choice.lower() in ['yes', 'y']:\n",
    "        continue\n",
    "    else:\n",
    "        break"
   ]
  },
  {
   "cell_type": "code",
   "execution_count": null,
   "id": "dfa1d26a",
   "metadata": {},
   "outputs": [],
   "source": []
  },
  {
   "cell_type": "markdown",
   "id": "1e51f9b1",
   "metadata": {},
   "source": [
    "Create a list of dictionaries where each dictionary represents a book that you have read. Each dictionary in the list should have the keys title, author, and genre. Loop through the list and print out information about each book.\n",
    "\n",
    "Prompt the user to enter a genre, then loop through your books list and print out the titles of all the books in that genre.\n"
   ]
  },
  {
   "cell_type": "code",
   "execution_count": 83,
   "id": "8760b42d",
   "metadata": {},
   "outputs": [
    {
     "name": "stdout",
     "output_type": "stream",
     "text": [
      "please enter genre: adventure\n",
      "{'name_of_book': 'half-blood', 'genre': 'adventure'}\n"
     ]
    }
   ],
   "source": [
    "book1 = dict(name_of_book='half-blood', genre='adventure')\n",
    "\n",
    "book2 = dict(name_of_book='the hunger games', genre='young adult')\n",
    "\n",
    "book3 = dict(name_of_book='twilight', genre='romance')\n",
    "\n",
    "genre = ('adventure', 'young adult', 'romance')\n",
    "\n",
    "user_imput = input('please enter genre: ')\n",
    "\n",
    "for book_recs in genre:\n",
    "    if book_recs == 'adventure':\n",
    "        print (book1)\n",
    "        break\n",
    "    if book_recs == 'young adult':\n",
    "        print (book2)\n",
    "        break\n",
    "    if book_recs == 'romance':\n",
    "        print (book3)\n",
    "        break\n",
    "    \n"
   ]
  },
  {
   "cell_type": "code",
   "execution_count": null,
   "id": "c5ce5274",
   "metadata": {},
   "outputs": [],
   "source": []
  },
  {
   "cell_type": "code",
   "execution_count": null,
   "id": "cebdb270",
   "metadata": {},
   "outputs": [],
   "source": []
  }
 ],
 "metadata": {
  "kernelspec": {
   "display_name": "Python 3 (ipykernel)",
   "language": "python",
   "name": "python3"
  },
  "language_info": {
   "codemirror_mode": {
    "name": "ipython",
    "version": 3
   },
   "file_extension": ".py",
   "mimetype": "text/x-python",
   "name": "python",
   "nbconvert_exporter": "python",
   "pygments_lexer": "ipython3",
   "version": "3.9.12"
  }
 },
 "nbformat": 4,
 "nbformat_minor": 5
}
