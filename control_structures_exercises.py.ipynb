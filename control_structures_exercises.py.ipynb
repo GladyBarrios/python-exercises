{
 "cells": [
  {
   "cell_type": "code",
   "execution_count": 9,
   "id": "967dece4",
   "metadata": {},
   "outputs": [
    {
     "name": "stdout",
     "output_type": "stream",
     "text": [
      "I like coffee!\n",
      "Coffee is the best!\n"
     ]
    }
   ],
   "source": [
    "i_like_coffee = '23'\n",
    "\n",
    "if i_like_coffee:\n",
    "    print('I like coffee!')\n",
    "    print('Coffee is the best!')\n",
    "\n",
    "    \n",
    "    \n",
    "    "
   ]
  },
  {
   "cell_type": "code",
   "execution_count": 10,
   "id": "3db50a9e",
   "metadata": {},
   "outputs": [
    {
     "name": "stdout",
     "output_type": "stream",
     "text": [
      "Looks like a nice, sunny day!\n"
     ]
    }
   ],
   "source": [
    "it_is_raining = False\n",
    "\n",
    "if it_is_raining:\n",
    "    print('Better bring an umbrella!')\n",
    "else:\n",
    "    print('Looks like a nice, sunny day!')\n"
   ]
  },
  {
   "cell_type": "code",
   "execution_count": 14,
   "id": "3bed0673",
   "metadata": {},
   "outputs": [
    {
     "name": "stdout",
     "output_type": "stream",
     "text": [
      "How about some tea then?\n"
     ]
    }
   ],
   "source": [
    "coffee_preference = '42'\n",
    "\n",
    "if coffee_preference == 'dark':\n",
    "    print('I love a good dark roast!')\n",
    "elif coffee_preference == 'medium':\n",
    "    print('Middle of the road, huh?')\n",
    "elif coffee_preference == 'light':\n",
    "    print('Light roast has the most caffeine!')\n",
    "else:\n",
    "    print('How about some tea then?')\n"
   ]
  },
  {
   "cell_type": "code",
   "execution_count": 15,
   "id": "953eea3d",
   "metadata": {},
   "outputs": [
    {
     "name": "stdout",
     "output_type": "stream",
     "text": [
      "1\n",
      "2\n",
      "3\n"
     ]
    }
   ],
   "source": [
    "for number in range(1, 4):\n",
    "    print(number)\n"
   ]
  },
  {
   "cell_type": "code",
   "execution_count": 16,
   "id": "cbf89763",
   "metadata": {},
   "outputs": [
    {
     "name": "stdout",
     "output_type": "stream",
     "text": [
      "a\n",
      "b\n",
      "c\n",
      "d\n",
      "e\n"
     ]
    }
   ],
   "source": [
    "for letter in 'abcde':\n",
    "    print(letter)\n"
   ]
  },
  {
   "cell_type": "code",
   "execution_count": 17,
   "id": "6fdf939d",
   "metadata": {},
   "outputs": [
    {
     "name": "stdout",
     "output_type": "stream",
     "text": [
      "bash is a nice programming language\n",
      "python is a nice programming language\n",
      "R is a nice programming language\n",
      "clojure is a nice programming language\n"
     ]
    }
   ],
   "source": [
    "languages = ['bash', 'python', 'R', 'clojure']\n",
    "\n",
    "for programming_language in languages:\n",
    "    print(f'{programming_language} is a nice programming language')\n"
   ]
  },
  {
   "cell_type": "code",
   "execution_count": 18,
   "id": "08742aa4",
   "metadata": {},
   "outputs": [
    {
     "name": "stdout",
     "output_type": "stream",
     "text": [
      "bash is a nice programming language\n",
      "python is my favorite!\n",
      "R is a nice programming language\n",
      "clojure is a nice programming language\n"
     ]
    }
   ],
   "source": [
    "for programming_language in languages:\n",
    "    if programming_language == 'python':\n",
    "        print(f'{programming_language} is my favorite!')\n",
    "    else:\n",
    "        print(f'{programming_language} is a nice programming language')\n"
   ]
  },
  {
   "cell_type": "code",
   "execution_count": 19,
   "id": "b2383ef9",
   "metadata": {},
   "outputs": [
    {
     "name": "stdout",
     "output_type": "stream",
     "text": [
      "5\n",
      "6\n",
      "7\n",
      "8\n",
      "9\n",
      "10\n"
     ]
    }
   ],
   "source": [
    "i = 5\n",
    "while i <= 10:\n",
    "    print(i)\n",
    "    i += 1\n"
   ]
  },
  {
   "cell_type": "code",
   "execution_count": 20,
   "id": "f6a31746",
   "metadata": {},
   "outputs": [
    {
     "name": "stdout",
     "output_type": "stream",
     "text": [
      "0\n",
      "1\n",
      "2\n",
      "3\n",
      "4\n",
      "5\n",
      "6\n",
      "7\n",
      "8\n",
      "9\n",
      "10\n",
      "11\n"
     ]
    }
   ],
   "source": [
    "for n in range(100_000):\n",
    "    print(n)\n",
    "    if n > 10:\n",
    "        break\n"
   ]
  },
  {
   "cell_type": "code",
   "execution_count": 21,
   "id": "f4a93881",
   "metadata": {},
   "outputs": [
    {
     "name": "stdout",
     "output_type": "stream",
     "text": [
      "Here is an odd number: 1\n",
      "Here is an odd number: 3\n",
      "Here is an odd number: 5\n",
      "Here is an odd number: 7\n",
      "Here is an odd number: 9\n"
     ]
    }
   ],
   "source": [
    "for n in range(10):\n",
    "    if n % 2 == 0:\n",
    "        continue\n",
    "    print(f'Here is an odd number: {n}')\n"
   ]
  },
  {
   "cell_type": "code",
   "execution_count": 22,
   "id": "6aae232f",
   "metadata": {},
   "outputs": [
    {
     "name": "stdout",
     "output_type": "stream",
     "text": [
      "age average: 29.00\n",
      "is_vegetarian is not numeric, skipping\n",
      "shoe size average: 8.86\n",
      "ISP is not numeric, skipping\n",
      "BMI average: 23.90\n"
     ]
    }
   ],
   "source": [
    "dataset = [{'name': 'age', 'type': 'int', 'data': [20, 25, 43, 11, 15, 53, 36]},\n",
    "           {'name': 'is_vegetarian', 'type': 'boolean', 'data': [False, True, False, False, True, False, False]},\n",
    "           {'name': 'shoe size', 'type': 'int', 'data': [8, 11, 7, 10, 7, 9, 10]},\n",
    "           {'name': 'ISP', 'type': 'categorical', 'data': ['AT&T', 'Spectrum', 'Spectrum', 'Spectrum', 'AT&T', 'Spectrum', 'AT&T']},\n",
    "           {'name': 'BMI', 'type': 'float', 'data': [29.9, 20.4, 23.3, 21.7, 22.2, 22.8, 27.0]}]\n",
    "\n",
    "# print the means for the numeric data\n",
    "for feature in dataset:\n",
    "    if feature['type'] == 'categorical' or feature['type'] == 'boolean':\n",
    "        print(f\"{feature['name']} is not numeric, skipping\")\n",
    "        continue\n",
    "    avg = sum(feature['data']) / len(feature['data'])\n",
    "    print(f\"{feature['name']} average: {avg:.2f}\") # the :.2f formats the decimal to 2 places.\n"
   ]
  },
  {
   "cell_type": "markdown",
   "id": "95df8ccc",
   "metadata": {},
   "source": [
    "practice excersises "
   ]
  },
  {
   "cell_type": "markdown",
   "id": "800f404e",
   "metadata": {},
   "source": [
    "Conditional Basics"
   ]
  },
  {
   "cell_type": "markdown",
   "id": "77b295d2",
   "metadata": {},
   "source": [
    "prompt the user for a day of the week, print out whether the day is Monday or not"
   ]
  },
  {
   "cell_type": "code",
   "execution_count": 45,
   "id": "b0ebaf6c",
   "metadata": {},
   "outputs": [
    {
     "name": "stdout",
     "output_type": "stream",
     "text": [
      "is today monday?: Yes\n",
      "Yay! Monday!\n"
     ]
    }
   ],
   "source": [
    "user_imput = input('is today monday?: ')\n",
    "    \n",
    "if user_imput == 'Yes':\n",
    "    print('Yay! Monday!')\n",
    "else:\n",
    "    print('Have a good day!')\n",
    "    \n"
   ]
  },
  {
   "cell_type": "markdown",
   "id": "47f36773",
   "metadata": {},
   "source": [
    "prompt the user for a day of the week, print out whether the day is a weekday or a weekend"
   ]
  },
  {
   "cell_type": "code",
   "execution_count": 41,
   "id": "d2c83ed4",
   "metadata": {},
   "outputs": [
    {
     "name": "stdout",
     "output_type": "stream",
     "text": [
      "what day is it today: Fri\n",
      "Weekday\n"
     ]
    }
   ],
   "source": [
    "user_imput = input('what day is it today: ')\n",
    "\n",
    "if user_imput == 'Monday'or'Tuesday'or 'Wed'or'Thurs'or'Fri':\n",
    "    print('Weekday')\n",
    "else:\n",
    "    print('its the weekend!')\n",
    " \n",
    "\n",
    "\n"
   ]
  },
  {
   "cell_type": "code",
   "execution_count": null,
   "id": "882a8be4",
   "metadata": {},
   "outputs": [],
   "source": [
    "weekly_hours_worked = 44\n",
    "\n",
    "hourly = 20\n",
    "\n",
    "How_much_the_check = weekly_hours_worked * hourly\n",
    "\n",
    "if weekly_hours_worked > 40: \n",
    "        hourly/2 + hourly\n",
    "\n",
    "How_much_the_check\n",
    "\n",
    "\n",
    "\n",
    "\n",
    "\n"
   ]
  },
  {
   "cell_type": "markdown",
   "id": "22fff217",
   "metadata": {},
   "source": [
    "Loop Basics"
   ]
  },
  {
   "cell_type": "markdown",
   "id": "8dfd7901",
   "metadata": {},
   "source": [
    "While"
   ]
  },
  {
   "cell_type": "code",
   "execution_count": 62,
   "id": "9bb612ca",
   "metadata": {},
   "outputs": [
    {
     "name": "stdout",
     "output_type": "stream",
     "text": [
      "5\n",
      "6\n",
      "7\n",
      "8\n",
      "9\n",
      "10\n",
      "11\n",
      "12\n",
      "13\n",
      "14\n",
      "15\n"
     ]
    }
   ],
   "source": [
    "i = 5\n",
    "while i <= 15:\n",
    "    print(i)\n",
    "    i += 1\n",
    "\n"
   ]
  },
  {
   "cell_type": "code",
   "execution_count": 1,
   "id": "e5dcc810",
   "metadata": {},
   "outputs": [
    {
     "name": "stdout",
     "output_type": "stream",
     "text": [
      "0\n",
      "2\n",
      "4\n",
      "6\n",
      "8\n",
      "10\n",
      "12\n",
      "14\n",
      "16\n",
      "18\n",
      "20\n",
      "22\n",
      "24\n",
      "26\n",
      "28\n",
      "30\n",
      "32\n",
      "34\n",
      "36\n",
      "38\n",
      "40\n",
      "42\n",
      "44\n",
      "46\n",
      "48\n",
      "50\n",
      "52\n",
      "54\n",
      "56\n",
      "58\n",
      "60\n",
      "62\n",
      "64\n",
      "66\n",
      "68\n",
      "70\n",
      "72\n",
      "74\n",
      "76\n",
      "78\n",
      "80\n",
      "82\n",
      "84\n",
      "86\n",
      "88\n",
      "90\n",
      "92\n",
      "94\n",
      "96\n",
      "98\n",
      "100\n"
     ]
    }
   ],
   "source": [
    "i = 0\n",
    "while i <= 101:\n",
    "    print(i)\n",
    "    i += 2"
   ]
  },
  {
   "cell_type": "code",
   "execution_count": 14,
   "id": "99a42816",
   "metadata": {},
   "outputs": [
    {
     "name": "stdout",
     "output_type": "stream",
     "text": [
      "100\n",
      "95\n",
      "90\n",
      "85\n",
      "80\n",
      "75\n",
      "70\n",
      "65\n",
      "60\n",
      "55\n",
      "50\n",
      "45\n",
      "40\n",
      "35\n",
      "30\n",
      "25\n",
      "20\n",
      "15\n",
      "10\n",
      "5\n",
      "0\n",
      "-5\n",
      "-10\n"
     ]
    }
   ],
   "source": [
    "i = 100\n",
    "while i >= -10:\n",
    "    print(i)\n",
    "    i = i - 5\n",
    "    \n"
   ]
  },
  {
   "cell_type": "code",
   "execution_count": 12,
   "id": "c25be618",
   "metadata": {},
   "outputs": [
    {
     "name": "stdout",
     "output_type": "stream",
     "text": [
      "2\n",
      "4\n",
      "16\n",
      "256\n",
      "65536\n"
     ]
    }
   ],
   "source": [
    "i = 2\n",
    "while i < 1000000:\n",
    "    print(i)\n",
    "    i = i**2\n",
    "\n",
    "\n",
    "    "
   ]
  },
  {
   "cell_type": "code",
   "execution_count": 11,
   "id": "ba68e090",
   "metadata": {},
   "outputs": [
    {
     "name": "stdout",
     "output_type": "stream",
     "text": [
      "100\n",
      "95\n",
      "90\n",
      "85\n",
      "80\n",
      "75\n",
      "70\n",
      "65\n",
      "60\n",
      "55\n",
      "50\n",
      "45\n",
      "40\n",
      "35\n",
      "30\n",
      "25\n",
      "20\n",
      "15\n",
      "10\n"
     ]
    }
   ],
   "source": [
    "i = 100\n",
    "while i > 5:\n",
    "    print(i)\n",
    "    i = i - 5"
   ]
  },
  {
   "cell_type": "code",
   "execution_count": 16,
   "id": "a01ae841",
   "metadata": {},
   "outputs": [
    {
     "name": "stdout",
     "output_type": "stream",
     "text": [
      "1\n",
      "2\n",
      "3\n",
      "4\n",
      "5\n",
      "6\n",
      "7\n",
      "8\n",
      "9\n",
      "10\n",
      "11\n",
      "12\n",
      "13\n",
      "14\n",
      "15\n",
      "16\n",
      "17\n",
      "18\n",
      "19\n",
      "20\n",
      "21\n",
      "22\n",
      "23\n",
      "24\n",
      "25\n",
      "26\n",
      "27\n",
      "28\n",
      "29\n",
      "30\n",
      "31\n",
      "32\n",
      "33\n",
      "34\n",
      "35\n",
      "36\n",
      "37\n",
      "38\n",
      "39\n",
      "40\n",
      "41\n",
      "42\n",
      "43\n",
      "44\n",
      "45\n",
      "46\n",
      "47\n",
      "48\n",
      "49\n",
      "50\n",
      "51\n",
      "52\n",
      "53\n",
      "54\n",
      "55\n",
      "56\n",
      "57\n",
      "58\n",
      "59\n",
      "60\n",
      "61\n",
      "62\n",
      "63\n",
      "64\n",
      "65\n",
      "66\n",
      "67\n",
      "68\n",
      "69\n",
      "70\n",
      "71\n",
      "72\n",
      "73\n",
      "74\n",
      "75\n",
      "76\n",
      "77\n",
      "78\n",
      "79\n",
      "80\n",
      "81\n",
      "82\n",
      "83\n",
      "84\n",
      "85\n",
      "86\n",
      "87\n",
      "88\n",
      "89\n",
      "90\n",
      "91\n",
      "92\n",
      "93\n",
      "94\n",
      "95\n",
      "96\n",
      "97\n",
      "98\n",
      "99\n",
      "100\n"
     ]
    }
   ],
   "source": [
    "i = 1\n",
    "while i <= 100:\n",
    "    print(i)\n",
    "    i += 1\n",
    "    \n",
    "    "
   ]
  },
  {
   "cell_type": "markdown",
   "id": "4ee66954",
   "metadata": {},
   "source": [
    "For Loops"
   ]
  },
  {
   "cell_type": "code",
   "execution_count": 16,
   "id": "b5251f93",
   "metadata": {},
   "outputs": [
    {
     "name": "stdout",
     "output_type": "stream",
     "text": [
      "number?: 2\n",
      "2 x 1 = 2\n",
      "2 x 2 = 4\n",
      "2 x 3 = 6\n",
      "2 x 4 = 8\n",
      "2 x 5 = 10\n",
      "2 x 6 = 12\n",
      "2 x 7 = 14\n",
      "2 x 8 = 16\n",
      "2 x 9 = 18\n"
     ]
    }
   ],
   "source": [
    "user_imput = int(input('number?: '))\n",
    "\n",
    "number = range(1,10)\n",
    "for x in number:\n",
    "    result = user_imput*x\n",
    "    print(user_imput,'x',x,'=',result)\n",
    "\n",
    "\n",
    "\n",
    "\n",
    "\n",
    "\n"
   ]
  },
  {
   "cell_type": "code",
   "execution_count": 19,
   "id": "ae128491",
   "metadata": {},
   "outputs": [
    {
     "name": "stdout",
     "output_type": "stream",
     "text": [
      "\n",
      "1\n",
      "22\n",
      "333\n",
      "4444\n",
      "55555\n",
      "666666\n",
      "7777777\n",
      "88888888\n",
      "999999999\n"
     ]
    }
   ],
   "source": [
    "for i in range(10):\n",
    "    print(str(i) * i)\n",
    "\n"
   ]
  },
  {
   "cell_type": "markdown",
   "id": "22e5c8b6",
   "metadata": {},
   "source": [
    "break and continue\n",
    "\n",
    "Prompt the user for an odd number between 1 and 50. Use a loop and a break statement to continue prompting the user if they enter invalid input. (Hint: use the isdigit method on strings to determine this). Use a loop and the continue statement to output all the odd numbers between 1 and 50, except for the number the user entered.\n",
    "\n",
    "Your output should look like this"
   ]
  },
  {
   "cell_type": "code",
   "execution_count": 107,
   "id": "07737a4c",
   "metadata": {},
   "outputs": [
    {
     "name": "stdout",
     "output_type": "stream",
     "text": [
      "odd number?: 45\n"
     ]
    }
   ],
   "source": [
    "user_imput = input('odd number?: ')\n",
    "\n",
    "\n",
    "for num in user_imput:\n",
    "    if user_imput.isdigit() == True:\n",
    "        continue\n",
    "    print('you may continue') \n",
    "    if user_imput.isdigit() == False:\n",
    "        continue\n",
    "    print('enter imput again')\n",
    "    \n",
    "    \n",
    "\n",
    "\n"
   ]
  },
  {
   "cell_type": "code",
   "execution_count": null,
   "id": "0fa93683",
   "metadata": {},
   "outputs": [],
   "source": []
  },
  {
   "cell_type": "code",
   "execution_count": 21,
   "id": "a82c1c29",
   "metadata": {},
   "outputs": [
    {
     "name": "stdout",
     "output_type": "stream",
     "text": [
      "2 Here is an odd number\n",
      "4 Here is an odd number\n",
      "6 Here is an odd number\n",
      "8 Here is an odd number\n",
      "10 Here is an odd number\n"
     ]
    }
   ],
   "source": [
    "for num in range(1, 11):\n",
    "    if num % 2 == 1:\n",
    "        continue\n",
    "    print(num, 'Here is an odd number') "
   ]
  },
  {
   "cell_type": "code",
   "execution_count": null,
   "id": "be79f33c",
   "metadata": {},
   "outputs": [],
   "source": []
  },
  {
   "cell_type": "code",
   "execution_count": null,
   "id": "d58b9655",
   "metadata": {},
   "outputs": [],
   "source": []
  },
  {
   "cell_type": "markdown",
   "id": "75aef5bc",
   "metadata": {},
   "source": [
    "Fizzbuzz\n",
    "\n",
    "One of the most common interview questions for entry-level programmers is the FizzBuzz test. Developed by Imran Ghory, the test is designed to test basic looping and conditional logic skills."
   ]
  },
  {
   "cell_type": "code",
   "execution_count": null,
   "id": "78913395",
   "metadata": {},
   "outputs": [],
   "source": []
  },
  {
   "cell_type": "code",
   "execution_count": 32,
   "id": "9a397d4b",
   "metadata": {},
   "outputs": [
    {
     "name": "stdout",
     "output_type": "stream",
     "text": [
      "Fizz\n",
      "Fizz\n",
      "Fizz\n",
      "Fizz\n",
      "Fizz\n",
      "Fizz\n",
      "Fizz\n",
      "Fizz\n",
      "Fizz\n",
      "Fizz\n",
      "Fizz\n",
      "Fizz\n",
      "Fizz\n",
      "Fizz\n",
      "Fizz\n",
      "Fizz\n",
      "Fizz\n",
      "Fizz\n",
      "Fizz\n",
      "Fizz\n",
      "Fizz\n",
      "Fizz\n",
      "Fizz\n",
      "Fizz\n",
      "Fizz\n",
      "Fizz\n",
      "Fizz\n",
      "Fizz\n",
      "Fizz\n",
      "Fizz\n",
      "Fizz\n",
      "Fizz\n",
      "Fizz\n",
      "Fizz\n"
     ]
    }
   ],
   "source": [
    "for n in range(100):\n",
    "    if n % 3 == 0:\n",
    "        print('Fizz')\n"
   ]
  },
  {
   "cell_type": "code",
   "execution_count": 26,
   "id": "fb5f7d9c",
   "metadata": {},
   "outputs": [
    {
     "name": "stdout",
     "output_type": "stream",
     "text": [
      "buzz\n",
      "buzz\n",
      "buzz\n",
      "buzz\n",
      "buzz\n",
      "buzz\n",
      "buzz\n",
      "buzz\n",
      "buzz\n",
      "buzz\n",
      "buzz\n",
      "buzz\n",
      "buzz\n",
      "buzz\n",
      "buzz\n",
      "buzz\n",
      "buzz\n",
      "buzz\n",
      "buzz\n",
      "buzz\n"
     ]
    }
   ],
   "source": [
    "for n in range(100):\n",
    "    if n % 5 == 0:\n",
    "        print('buzz')\n",
    "    "
   ]
  },
  {
   "cell_type": "code",
   "execution_count": 31,
   "id": "e92afb79",
   "metadata": {},
   "outputs": [
    {
     "name": "stdout",
     "output_type": "stream",
     "text": [
      "fizbuzz\n",
      "fizbuzz\n",
      "fizbuzz\n",
      "fizbuzz\n",
      "fizbuzz\n",
      "fizbuzz\n",
      "fizbuzz\n"
     ]
    }
   ],
   "source": [
    "for n in range(100):\n",
    "    if n % 5 == 0 and n % 3 == 0:\n",
    "        print('fizbuzz')"
   ]
  },
  {
   "cell_type": "markdown",
   "id": "6e2d2d6e",
   "metadata": {},
   "source": [
    "Display a table of powers.\n",
    "\n",
    "Prompt the user to enter an integer.\n",
    "Display a table of squares and cubes from 1 to the value entered.\n",
    "Ask if the user wants to continue.\n",
    "Assume that the user will enter valid data.\n",
    "Only continue if the user agrees to."
   ]
  },
  {
   "cell_type": "code",
   "execution_count": null,
   "id": "20ede355",
   "metadata": {},
   "outputs": [],
   "source": []
  },
  {
   "cell_type": "code",
   "execution_count": null,
   "id": "a644a9fe",
   "metadata": {},
   "outputs": [],
   "source": []
  },
  {
   "cell_type": "code",
   "execution_count": null,
   "id": "5128bb7c",
   "metadata": {},
   "outputs": [],
   "source": []
  },
  {
   "cell_type": "code",
   "execution_count": null,
   "id": "3e71edaa",
   "metadata": {},
   "outputs": [],
   "source": []
  },
  {
   "cell_type": "code",
   "execution_count": null,
   "id": "0ef0951e",
   "metadata": {},
   "outputs": [],
   "source": []
  },
  {
   "cell_type": "code",
   "execution_count": null,
   "id": "264790a0",
   "metadata": {},
   "outputs": [],
   "source": []
  },
  {
   "cell_type": "code",
   "execution_count": null,
   "id": "a409b5b4",
   "metadata": {},
   "outputs": [],
   "source": []
  },
  {
   "cell_type": "markdown",
   "id": "bd1ef7e7",
   "metadata": {},
   "source": [
    "Convert given number grades into letter grades\n",
    "\n",
    "Convert given number grades into letter grades.\n",
    "\n",
    "Prompt the user for a numerical grade from 0 to 100.\n",
    "Display the corresponding letter grade.\n",
    "Prompt the user to continue.\n",
    "Assume that the user will enter valid integers for the grades.\n",
    "The application should only continue if the user agrees to.\n",
    "Grade Ranges:\n",
    "\n",
    "A : 100 - 88\n",
    "B : 87 - 80\n",
    "C : 79 - 67\n",
    "D : 66 - 60\n",
    "F : 59 - 0"
   ]
  },
  {
   "cell_type": "code",
   "execution_count": 90,
   "id": "4e7148fd",
   "metadata": {},
   "outputs": [
    {
     "name": "stdout",
     "output_type": "stream",
     "text": [
      "please enter grade: 45\n",
      "A\n"
     ]
    }
   ],
   "source": [
    "user_imput = input('please enter grade: ')\n",
    "\n",
    "A = range(100-88)\n",
    "\n",
    "B = range(87-80)\n",
    "\n",
    "C = range(79-67)\n",
    "\n",
    "D = range(66-60)\n",
    "\n",
    "F = range(59-0)\n",
    "\n",
    "grades = (A, B, C, D, F)\n",
    "for num in grades:\n",
    "    if num == A :\n",
    "        print('A')\n",
    "        break\n",
    "    if num == B:\n",
    "        print('B')\n",
    "        break\n",
    "    if num == C:\n",
    "        print('C')\n",
    "        break\n",
    "    if num == D:\n",
    "        print('D')\n",
    "        break\n",
    "    if num == C:\n",
    "        print('F')\n",
    "        break\n",
    "        \n",
    "    "
   ]
  },
  {
   "cell_type": "code",
   "execution_count": 103,
   "id": "7d74c5f7",
   "metadata": {},
   "outputs": [
    {
     "name": "stdout",
     "output_type": "stream",
     "text": [
      "please enter grade: 45\n"
     ]
    },
    {
     "ename": "TypeError",
     "evalue": "argument of type 'bool' is not iterable",
     "output_type": "error",
     "traceback": [
      "\u001b[0;31m---------------------------------------------------------------------------\u001b[0m",
      "\u001b[0;31mTypeError\u001b[0m                                 Traceback (most recent call last)",
      "Input \u001b[0;32mIn [103]\u001b[0m, in \u001b[0;36m<cell line: 15>\u001b[0;34m()\u001b[0m\n\u001b[1;32m     12\u001b[0m F \u001b[38;5;241m=\u001b[39m user_imput \u001b[38;5;241m>\u001b[39m\u001b[38;5;241m=\u001b[39m\u001b[38;5;241m0\u001b[39m\n\u001b[1;32m     15\u001b[0m \u001b[38;5;28;01mfor\u001b[39;00m num \u001b[38;5;129;01min\u001b[39;00m \u001b[38;5;28mrange\u001b[39m(\u001b[38;5;241m1\u001b[39m,\u001b[38;5;241m100\u001b[39m):\n\u001b[0;32m---> 16\u001b[0m     \u001b[38;5;28;01mif\u001b[39;00m \u001b[43mnum\u001b[49m\u001b[43m \u001b[49m\u001b[38;5;129;43;01min\u001b[39;49;00m\u001b[43m \u001b[49m\u001b[43mA\u001b[49m:\n\u001b[1;32m     18\u001b[0m         \u001b[38;5;28;01mcontinue\u001b[39;00m\n\u001b[1;32m     19\u001b[0m     \u001b[38;5;28mprint\u001b[39m(\u001b[38;5;124m'\u001b[39m\u001b[38;5;124mA\u001b[39m\u001b[38;5;124m'\u001b[39m)\n",
      "\u001b[0;31mTypeError\u001b[0m: argument of type 'bool' is not iterable"
     ]
    }
   ],
   "source": [
    "user_imput = int(input('please enter grade: '))\n",
    "\n",
    "\n",
    "A = user_imput >=88\n",
    "\n",
    "B = user_imput >=80\n",
    "\n",
    "C = user_imput >=67\n",
    "\n",
    "D = user_imput >=60\n",
    "\n",
    "F = user_imput >=0\n",
    "\n",
    "\n",
    "for num in range(1,100):\n",
    "    if num in A: \n",
    "        continue\n",
    "    print('A')\n",
    "    break\n",
    "    if num in B:\n",
    "        continue\n",
    "    print('B')\n",
    "    break   \n",
    "    if num in C:\n",
    "        continue\n",
    "    print('C')\n",
    "    break\n",
    "    if num in D:\n",
    "        continue\n",
    "    print('D')\n",
    "    break\n",
    "    if num in C:\n",
    "        continue\n",
    "    print('F')\n",
    "    break\n",
    "    \n",
    "        \n",
    "        "
   ]
  },
  {
   "cell_type": "markdown",
   "id": "1e51f9b1",
   "metadata": {},
   "source": [
    "Create a list of dictionaries where each dictionary represents a book that you have read. Each dictionary in the list should have the keys title, author, and genre. Loop through the list and print out information about each book.\n",
    "\n",
    "Prompt the user to enter a genre, then loop through your books list and print out the titles of all the books in that genre.\n"
   ]
  },
  {
   "cell_type": "code",
   "execution_count": 83,
   "id": "8760b42d",
   "metadata": {},
   "outputs": [
    {
     "name": "stdout",
     "output_type": "stream",
     "text": [
      "please enter genre: adventure\n",
      "{'name_of_book': 'half-blood', 'genre': 'adventure'}\n"
     ]
    }
   ],
   "source": [
    "book1 = dict(name_of_book='half-blood', genre='adventure')\n",
    "\n",
    "book2 = dict(name_of_book='the hunger games', genre='young adult')\n",
    "\n",
    "book3 = dict(name_of_book='twilight', genre='romance')\n",
    "\n",
    "genre = ('adventure', 'young adult', 'romance')\n",
    "\n",
    "user_imput = input('please enter genre: ')\n",
    "\n",
    "for book_recs in genre:\n",
    "    if book_recs == 'adventure':\n",
    "        print (book1)\n",
    "        break\n",
    "    if book_recs == 'young adult':\n",
    "        print (book2)\n",
    "        break\n",
    "    if book_recs == 'romance':\n",
    "        print (book3)\n",
    "        break\n",
    "    \n"
   ]
  },
  {
   "cell_type": "code",
   "execution_count": null,
   "id": "c5ce5274",
   "metadata": {},
   "outputs": [],
   "source": []
  },
  {
   "cell_type": "code",
   "execution_count": null,
   "id": "cebdb270",
   "metadata": {},
   "outputs": [],
   "source": []
  },
  {
   "cell_type": "code",
   "execution_count": null,
   "id": "7913c38b",
   "metadata": {},
   "outputs": [],
   "source": []
  },
  {
   "cell_type": "code",
   "execution_count": null,
   "id": "4b853496",
   "metadata": {},
   "outputs": [],
   "source": []
  },
  {
   "cell_type": "code",
   "execution_count": null,
   "id": "932b3ea7",
   "metadata": {},
   "outputs": [],
   "source": []
  },
  {
   "cell_type": "code",
   "execution_count": null,
   "id": "eb8c84ef",
   "metadata": {},
   "outputs": [],
   "source": []
  },
  {
   "cell_type": "code",
   "execution_count": null,
   "id": "d94f5186",
   "metadata": {},
   "outputs": [],
   "source": []
  },
  {
   "cell_type": "code",
   "execution_count": null,
   "id": "648c33dc",
   "metadata": {},
   "outputs": [],
   "source": []
  }
 ],
 "metadata": {
  "kernelspec": {
   "display_name": "Python 3 (ipykernel)",
   "language": "python",
   "name": "python3"
  },
  "language_info": {
   "codemirror_mode": {
    "name": "ipython",
    "version": 3
   },
   "file_extension": ".py",
   "mimetype": "text/x-python",
   "name": "python",
   "nbconvert_exporter": "python",
   "pygments_lexer": "ipython3",
   "version": "3.9.12"
  }
 },
 "nbformat": 4,
 "nbformat_minor": 5
}
